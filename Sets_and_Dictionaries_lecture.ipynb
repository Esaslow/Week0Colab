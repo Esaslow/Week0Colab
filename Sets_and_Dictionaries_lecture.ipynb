{
  "nbformat": 4,
  "nbformat_minor": 0,
  "metadata": {
    "colab": {
      "name": "Sets and Dictionaries lecture.ipynb",
      "version": "0.3.2",
      "provenance": [],
      "collapsed_sections": [],
      "toc_visible": true,
      "include_colab_link": true
    },
    "kernelspec": {
      "name": "python3",
      "display_name": "Python 3"
    }
  },
  "cells": [
    {
      "cell_type": "markdown",
      "metadata": {
        "id": "view-in-github",
        "colab_type": "text"
      },
      "source": [
        "[View in Colaboratory](https://colab.research.google.com/github/Esaslow/Week0Colab/blob/master/Sets_and_Dictionaries_lecture.ipynb)"
      ]
    },
    {
      "metadata": {
        "id": "tlrZBnan4Msy",
        "colab_type": "code",
        "colab": {}
      },
      "cell_type": "code",
      "source": [
        "#IGNORE THIS\n",
        "from random import choice, shuffle\n",
        "students = [\"Alberto\", \"Danielle\", \"Deepak\", \"Eric\", \"Katelyn\", \n",
        "            \"Jeremy\", \"John Braunlin\", \"John Hayes\", \"Jon Bate\",\n",
        "            \"Prumjot\", \"Robert\", \"U-Jan\", \"Wanlu\", \"Will\", \"Claire\"]\n",
        "coldcall = lambda: choice(students)"
      ],
      "execution_count": 0,
      "outputs": []
    },
    {
      "metadata": {
        "id": "J2nilfQBnUje",
        "colab_type": "text"
      },
      "cell_type": "markdown",
      "source": [
        "# Sets and Dictionaries\n",
        "\n",
        "Get ready to learn about sets and dictionaries."
      ]
    },
    {
      "metadata": {
        "id": "xgmpMyAldhtP",
        "colab_type": "text"
      },
      "cell_type": "markdown",
      "source": [
        "## 0 Objectives\n",
        "\n",
        "By the end of the lession you should be able to:\n",
        "\n",
        "### Store data\n",
        "\n",
        "* Create, add to, and access data in **sets** and **dictionaries**.\n",
        "\n",
        "### Choose structure\n",
        "\n",
        "* State advantages and disdvantages of different collection types\n",
        "* Match a dataset with an appropriate collection type\n",
        "\n",
        "### Apply computational strengths\n",
        "\n",
        "* Use the advantages of sets and dictionaries to simplify and speed up algorithms\n",
        "\n",
        "\n"
      ]
    },
    {
      "metadata": {
        "id": "pnrL70DReYm7",
        "colab_type": "text"
      },
      "cell_type": "markdown",
      "source": [
        "> **sidebar** You can safely ignore the sidebars, but if you have an extra moment, you may find them edifying."
      ]
    },
    {
      "metadata": {
        "id": "m_Cw_hsckdU2",
        "colab_type": "text"
      },
      "cell_type": "markdown",
      "source": [
        "## 1 New Skill: Colab Virtual Machines\n",
        "\n",
        "When you run a code cell in a colab notebook, Colab _gives you your own virtual machine_. To run shell commands in code cells, start with `!`.\n",
        "\n",
        "**Good to know**: the exclamation mark \"!\" is pronounced \"bang\". So `!ls` is pronounced \"bang ell ess\".\n",
        "\n",
        "For example, list the contents of the root directory:"
      ]
    },
    {
      "metadata": {
        "id": "qd-Vs9wXk4qm",
        "colab_type": "code",
        "colab": {
          "base_uri": "https://localhost:8080/",
          "height": 493
        },
        "outputId": "128df1b2-258b-435d-c372-a9fbeb544d59"
      },
      "cell_type": "code",
      "source": [
        "!ls /"
      ],
      "execution_count": 3,
      "outputs": [
        {
          "output_type": "stream",
          "text": [
            "bin\r\n",
            "boot\r\n",
            "colabtools\r\n",
            "content\r\n",
            "datalab\r\n",
            "dev\r\n",
            "etc\r\n",
            "gpu-tensorflow-1.10.1-cp27-cp27mu-linux_x86_64.whl\r\n",
            "gpu-tensorflow-1.10.1-cp36-cp36m-linux_x86_64.whl\r\n",
            "home\r\n",
            "lib\r\n",
            "lib64\r\n",
            "media\r\n",
            "mnt\r\n",
            "opt\r\n",
            "proc\r\n",
            "root\r\n",
            "run\r\n",
            "sbin\r\n",
            "srv\r\n",
            "sys\r\n",
            "tensorflow-1.10.1-cp27-cp27mu-linux_x86_64.whl\r\n",
            "tensorflow-1.10.1-cp36-cp36m-linux_x86_64.whl\r\n",
            "tf_deps\r\n",
            "tmp\r\n",
            "tools\r\n",
            "usr\r\n",
            "var\r\n"
          ],
          "name": "stdout"
        }
      ]
    },
    {
      "metadata": {
        "id": "T1HItfIAl0m3",
        "colab_type": "text"
      },
      "cell_type": "markdown",
      "source": [
        "Run the following cell. It will download the contents of the book \"Pride and Prejudice\" by Jane Austin, and put in in a text tile \"pp.txt\" in the current working directory on your own personal virtual machine."
      ]
    },
    {
      "metadata": {
        "id": "roUuuVTCW0Eh",
        "colab_type": "code",
        "colab": {
          "base_uri": "https://localhost:8080/",
          "height": 34
        },
        "outputId": "438f28d0-4112-4593-c66e-67ee33407eb1"
      },
      "cell_type": "code",
      "source": [
        "! pwd\n"
      ],
      "execution_count": 6,
      "outputs": [
        {
          "output_type": "stream",
          "text": [
            "/content\r\n"
          ],
          "name": "stdout"
        }
      ]
    },
    {
      "metadata": {
        "id": "vWsmTa9jW-NR",
        "colab_type": "code",
        "colab": {
          "base_uri": "https://localhost:8080/",
          "height": 34
        },
        "outputId": "df46b532-11a1-486d-afb3-59de32e2cfca"
      },
      "cell_type": "code",
      "source": [
        "! ls"
      ],
      "execution_count": 7,
      "outputs": [
        {
          "output_type": "stream",
          "text": [
            ".  ..  .config\tpp.txt\tsample_data\r\n"
          ],
          "name": "stdout"
        }
      ]
    },
    {
      "metadata": {
        "id": "o2dUUadhlFd3",
        "colab_type": "code",
        "colab": {
          "base_uri": "https://localhost:8080/",
          "height": 224
        },
        "outputId": "6b8673f5-dd5a-4dca-98de-fab2f458b27c"
      },
      "cell_type": "code",
      "source": [
        "!wget https://www.gutenberg.org/files/1342/1342.txt -O pp.txt"
      ],
      "execution_count": 1,
      "outputs": [
        {
          "output_type": "stream",
          "text": [
            "--2018-09-05 20:08:48--  https://www.gutenberg.org/files/1342/1342.txt\n",
            "Resolving www.gutenberg.org (www.gutenberg.org)... 152.19.134.47, 2610:28:3090:3000:0:bad:cafe:47\n",
            "Connecting to www.gutenberg.org (www.gutenberg.org)|152.19.134.47|:443... connected.\n",
            "HTTP request sent, awaiting response... 200 OK\n",
            "Length: 717602 (701K) [text/plain]\n",
            "Saving to: ‘pp.txt’\n",
            "\n",
            "pp.txt              100%[===================>] 700.78K   778KB/s    in 0.9s    \n",
            "\n",
            "2018-09-05 20:08:49 (778 KB/s) - ‘pp.txt’ saved [717602/717602]\n",
            "\n"
          ],
          "name": "stdout"
        }
      ]
    },
    {
      "metadata": {
        "id": "SSCZBZiXoid5",
        "colab_type": "text"
      },
      "cell_type": "markdown",
      "source": [
        "## 2 Sets\n",
        "\n",
        "A **set** is very similar to a list. A set literal is like a list literal, with curly brackets instead of square brackets:\n"
      ]
    },
    {
      "metadata": {
        "id": "1APxXZZHpIzF",
        "colab_type": "code",
        "colab": {
          "base_uri": "https://localhost:8080/",
          "height": 34
        },
        "outputId": "4790b4e3-01dd-4b19-92f3-30d0ab8c25d9"
      },
      "cell_type": "code",
      "source": [
        "#this is a set\n",
        "a_set = {1, 2, 'a', 'b', 12.5}\n",
        "a_set"
      ],
      "execution_count": 3,
      "outputs": [
        {
          "output_type": "execute_result",
          "data": {
            "text/plain": [
              "{1, 12.5, 2, 'a', 'b'}"
            ]
          },
          "metadata": {
            "tags": []
          },
          "execution_count": 3
        }
      ]
    },
    {
      "metadata": {
        "id": "quIPR_QjxdRq",
        "colab_type": "text"
      },
      "cell_type": "markdown",
      "source": [
        "**note** You might think that `{}` creates an empty set, but you'd be wrong. The expression for an empty set is `set()`."
      ]
    },
    {
      "metadata": {
        "id": "pZY0ujyVpQQV",
        "colab_type": "text"
      },
      "cell_type": "markdown",
      "source": [
        "There are two main differences from lists.\n",
        "\n",
        "### 2.1 Sets are unordered\n",
        "\n",
        "This means you can't reference their elements by location."
      ]
    },
    {
      "metadata": {
        "id": "dc4fRzacplp-",
        "colab_type": "code",
        "colab": {
          "base_uri": "https://localhost:8080/",
          "height": 167
        },
        "outputId": "e0060d37-6f79-4350-c87a-a3f1b1b551be"
      },
      "cell_type": "code",
      "source": [
        "a_set[0]"
      ],
      "execution_count": 32,
      "outputs": [
        {
          "output_type": "error",
          "ename": "TypeError",
          "evalue": "ignored",
          "traceback": [
            "\u001b[0;31m---------------------------------------------------------------------------\u001b[0m",
            "\u001b[0;31mTypeError\u001b[0m                                 Traceback (most recent call last)",
            "\u001b[0;32m<ipython-input-32-e167115489d6>\u001b[0m in \u001b[0;36m<module>\u001b[0;34m()\u001b[0m\n\u001b[0;32m----> 1\u001b[0;31m \u001b[0ma_set\u001b[0m\u001b[0;34m[\u001b[0m\u001b[0;36m0\u001b[0m\u001b[0;34m]\u001b[0m\u001b[0;34m\u001b[0m\u001b[0m\n\u001b[0m",
            "\u001b[0;31mTypeError\u001b[0m: 'set' object does not support indexing"
          ]
        }
      ]
    },
    {
      "metadata": {
        "id": "OObIwOlQp1w6",
        "colab_type": "text"
      },
      "cell_type": "markdown",
      "source": [
        "### 2.2 Sets can not have duplicate items"
      ]
    },
    {
      "metadata": {
        "id": "MUKXUn79p8jL",
        "colab_type": "code",
        "colab": {
          "base_uri": "https://localhost:8080/",
          "height": 34
        },
        "outputId": "792b0425-5cdf-4e64-b3d8-064baee411e4"
      },
      "cell_type": "code",
      "source": [
        "{'a', 'a', 1, 2, 3, 3, 3, 3, 3, 3}"
      ],
      "execution_count": 4,
      "outputs": [
        {
          "output_type": "execute_result",
          "data": {
            "text/plain": [
              "{1, 2, 3, 'a'}"
            ]
          },
          "metadata": {
            "tags": []
          },
          "execution_count": 4
        }
      ]
    },
    {
      "metadata": {
        "id": "URb6rz-7XEWp",
        "colab_type": "code",
        "colab": {}
      },
      "cell_type": "code",
      "source": [
        ""
      ],
      "execution_count": 0,
      "outputs": []
    },
    {
      "metadata": {
        "id": "7zvhT4AvqR-t",
        "colab_type": "text"
      },
      "cell_type": "markdown",
      "source": [
        "Attempting to add a duplicate item does not cause an error, because this is a common use case for sets."
      ]
    },
    {
      "metadata": {
        "id": "fD7Ae8PEXIzn",
        "colab_type": "code",
        "colab": {}
      },
      "cell_type": "code",
      "source": [
        ""
      ],
      "execution_count": 0,
      "outputs": []
    },
    {
      "metadata": {
        "id": "3JDpJvOtwizb",
        "colab_type": "text"
      },
      "cell_type": "markdown",
      "source": [
        "**Individual coding**. Create a set with five items, and then iterate over it, printing each item."
      ]
    },
    {
      "metadata": {
        "id": "9S5CDdafXG8G",
        "colab_type": "code",
        "colab": {
          "base_uri": "https://localhost:8080/",
          "height": 102
        },
        "outputId": "50583a63-ca7e-4029-e7ee-5cdb57419991"
      },
      "cell_type": "code",
      "source": [
        "# foo\n",
        "set1 = {55,989,2,0,2}\n",
        "for thing in set1:\n",
        "  print(thing)\n",
        "type(set1)"
      ],
      "execution_count": 7,
      "outputs": [
        {
          "output_type": "stream",
          "text": [
            "0\n",
            "2\n",
            "989\n",
            "55\n"
          ],
          "name": "stdout"
        },
        {
          "output_type": "execute_result",
          "data": {
            "text/plain": [
              "set"
            ]
          },
          "metadata": {
            "tags": []
          },
          "execution_count": 7
        }
      ]
    },
    {
      "metadata": {
        "id": "v4rUaqwRXKAb",
        "colab_type": "code",
        "colab": {
          "base_uri": "https://localhost:8080/",
          "height": 102
        },
        "outputId": "61caaf27-3cae-4c44-e713-075fd549ef64"
      },
      "cell_type": "code",
      "source": [
        "#John B\n",
        "set1 = {x for x in range(0,5)}\n",
        "for i in set1:\n",
        "  print (i)"
      ],
      "execution_count": 3,
      "outputs": [
        {
          "output_type": "stream",
          "text": [
            "0\n",
            "1\n",
            "2\n",
            "3\n",
            "4\n"
          ],
          "name": "stdout"
        }
      ]
    },
    {
      "metadata": {
        "id": "XzoAt5nvXFwG",
        "colab_type": "code",
        "colab": {
          "base_uri": "https://localhost:8080/",
          "height": 102
        },
        "outputId": "24d5a2f4-7584-4eb7-8c93-89e850fc1d2d"
      },
      "cell_type": "code",
      "source": [
        "#robert\n",
        "Game_set = {'a','b','3',3, 9}\n",
        "for i in Game_set:\n",
        "  print(i)"
      ],
      "execution_count": 3,
      "outputs": [
        {
          "output_type": "stream",
          "text": [
            "3\n",
            "b\n",
            "3\n",
            "9\n",
            "a\n"
          ],
          "name": "stdout"
        }
      ]
    },
    {
      "metadata": {
        "id": "gYAYwuCZXEGb",
        "colab_type": "code",
        "colab": {
          "base_uri": "https://localhost:8080/",
          "height": 121
        },
        "outputId": "5f74df61-97d1-435d-d6ba-8942dd2fb2f3"
      },
      "cell_type": "code",
      "source": [
        "#Elliott\n",
        "Elliotts_set = {1,2,3,'word','notword',(1,2)}\n",
        "for thing in Elliotts_set:\n",
        "  print(thing)"
      ],
      "execution_count": 6,
      "outputs": [
        {
          "output_type": "stream",
          "text": [
            "(1, 2)\n",
            "1\n",
            "2\n",
            "3\n",
            "notword\n",
            "word\n"
          ],
          "name": "stdout"
        }
      ]
    },
    {
      "metadata": {
        "id": "wrwSvpTZXDhQ",
        "colab_type": "code",
        "colab": {
          "base_uri": "https://localhost:8080/",
          "height": 119
        },
        "outputId": "63c5ac3c-28d8-4974-93f4-9686a9d85ba2"
      },
      "cell_type": "code",
      "source": [
        "#Katelyn\n",
        "set_1 = {1,2,3,'a','h',6}\n",
        "for item in set_1:\n",
        "  print(item)"
      ],
      "execution_count": 2,
      "outputs": [
        {
          "output_type": "stream",
          "text": [
            "1\n",
            "2\n",
            "3\n",
            "h\n",
            "6\n",
            "a\n"
          ],
          "name": "stdout"
        }
      ]
    },
    {
      "metadata": {
        "id": "UuWYhQdBXDdX",
        "colab_type": "code",
        "colab": {
          "base_uri": "https://localhost:8080/",
          "height": 102
        },
        "outputId": "b0d5aba2-f86f-40c5-cf24-fa2d22729a7b"
      },
      "cell_type": "code",
      "source": [
        "#john h\n",
        "set_a = {1,2,3,4,5}\n",
        "for num in set_a:\n",
        "  print (num)"
      ],
      "execution_count": 7,
      "outputs": [
        {
          "output_type": "stream",
          "text": [
            "1\n",
            "2\n",
            "3\n",
            "4\n",
            "5\n"
          ],
          "name": "stdout"
        }
      ]
    },
    {
      "metadata": {
        "id": "s8AWij0AXCnq",
        "colab_type": "code",
        "colab": {
          "base_uri": "https://localhost:8080/",
          "height": 34
        },
        "outputId": "74265ad6-1074-4459-8a32-f79afcfccf40"
      },
      "cell_type": "code",
      "source": [
        "#jan deepak\n",
        "set_yo = {1,1,1,1,2,3,4,4,5}\n",
        "print(set_yo)"
      ],
      "execution_count": 3,
      "outputs": [
        {
          "output_type": "stream",
          "text": [
            "{1, 2, 3, 4, 5}\n"
          ],
          "name": "stdout"
        }
      ]
    },
    {
      "metadata": {
        "id": "rkca5VboXEBz",
        "colab_type": "code",
        "colab": {
          "base_uri": "https://localhost:8080/",
          "height": 119
        },
        "outputId": "159e9783-71ad-4af5-ee83-2e5b8869cd17"
      },
      "cell_type": "code",
      "source": [
        "#Alberto\n",
        "set_1 = {2, 4, 6, 8, 1, (8, 9 ,10)}\n",
        "for i in set_1:\n",
        "  print(i)\n",
        "  "
      ],
      "execution_count": 7,
      "outputs": [
        {
          "output_type": "stream",
          "text": [
            "(8, 9, 10)\n",
            "1\n",
            "2\n",
            "4\n",
            "6\n",
            "8\n"
          ],
          "name": "stdout"
        }
      ]
    },
    {
      "metadata": {
        "id": "JFP-IFMcXCIZ",
        "colab_type": "code",
        "colab": {
          "base_uri": "https://localhost:8080/",
          "height": 153
        },
        "outputId": "461ef9d7-3d18-4a10-85e5-ab4609849990"
      },
      "cell_type": "code",
      "source": [
        "#will\n",
        "set1 = {7,3,1,4,5,6, 'cat', True, (1,2)}\n",
        "for item in set1:\n",
        "  print(item)"
      ],
      "execution_count": 12,
      "outputs": [
        {
          "output_type": "stream",
          "text": [
            "(1, 2)\n",
            "1\n",
            "cat\n",
            "3\n",
            "4\n",
            "5\n",
            "6\n",
            "7\n"
          ],
          "name": "stdout"
        }
      ]
    },
    {
      "metadata": {
        "id": "FRnPoNBZXBBt",
        "colab_type": "code",
        "colab": {
          "base_uri": "https://localhost:8080/",
          "height": 85
        },
        "outputId": "211bac36-b041-4426-f557-95f87555ac12"
      },
      "cell_type": "code",
      "source": [
        "#prum\n",
        "set1 = {1,2,3,4}\n",
        "for num in set1:\n",
        "  print (num)"
      ],
      "execution_count": 3,
      "outputs": [
        {
          "output_type": "stream",
          "text": [
            "1\n",
            "2\n",
            "3\n",
            "4\n"
          ],
          "name": "stdout"
        }
      ]
    },
    {
      "metadata": {
        "id": "G2LqRPu9XAam",
        "colab_type": "code",
        "colab": {
          "base_uri": "https://localhost:8080/",
          "height": 85
        },
        "outputId": "2cf41db3-afb9-40df-92fd-2126e8442e61"
      },
      "cell_type": "code",
      "source": [
        "#Jon B\n",
        "a = {1, 5, 'sd', True, 345.7}\n",
        "for item in a:\n",
        "  print(item)"
      ],
      "execution_count": 11,
      "outputs": [
        {
          "output_type": "stream",
          "text": [
            "sd\n",
            "1\n",
            "345.7\n",
            "5\n"
          ],
          "name": "stdout"
        }
      ]
    },
    {
      "metadata": {
        "id": "rdodmxn_e9iZ",
        "colab_type": "text"
      },
      "cell_type": "markdown",
      "source": [
        "> **sidebar** In the monumental work _The Principia Mathematica_, mathematicians Alfred Russell and Bertrand Russell dervied _all of mathematics_ starting _only from sets_. To derive the statement \"1+1=2\" starting from the rules of sets takes several hundred pages. "
      ]
    },
    {
      "metadata": {
        "id": "cXutE-Dzqv8D",
        "colab_type": "text"
      },
      "cell_type": "markdown",
      "source": [
        "### 2.3 Advantage of sets\n",
        "\n",
        "These constraints buy us a very useful property: **constant time membership check**.\n",
        "\n",
        "This means that as a set grows larger, the amount of time it takes to check whether or not a value is in the set does _not_ increase.\n",
        "\n",
        "> **sidebar** This magic is accomplished with a data structure called a _hash table_.\n",
        "\n",
        "**Question** How would you check if a value is a member of a set?"
      ]
    },
    {
      "metadata": {
        "id": "cp5y-e0znNbI",
        "colab_type": "text"
      },
      "cell_type": "markdown",
      "source": [
        "**Pair coding**\n",
        "\n",
        "One way to put the contents of a file in a string is:\n",
        "\n",
        "```python\n",
        "contents = open(FILENAME).read()\n",
        "```\n",
        "\n",
        "To create a list with all the words in a given string:\n",
        "\n",
        "```python\n",
        "words = contents.split()\n",
        "```\n",
        "\n",
        "Determine whether or not the word \"python\" occurs anywhere in the book \"Pride and Prejudice\"."
      ]
    },
    {
      "metadata": {
        "id": "6VQEKgiSsE_h",
        "colab_type": "text"
      },
      "cell_type": "markdown",
      "source": [
        "### 2.4 Set operations\n",
        "\n",
        "Constant-time membership check enables efficient set operations. The main set operations are:\n",
        "\n",
        "#### union\n",
        "\n",
        "The union of two sets has every member from both sets."
      ]
    },
    {
      "metadata": {
        "id": "xk1ythLds9B8",
        "colab_type": "code",
        "colab": {
          "base_uri": "https://localhost:8080/",
          "height": 34
        },
        "outputId": "693252dc-7dfa-4ad3-bd51-4dfe867e2615"
      },
      "cell_type": "code",
      "source": [
        "a = {1,2,3,4}\n",
        "b = {3,4,5,6}\n",
        "a.union(b)"
      ],
      "execution_count": 33,
      "outputs": [
        {
          "output_type": "execute_result",
          "data": {
            "text/plain": [
              "{1, 2, 3, 4, 5, 6}"
            ]
          },
          "metadata": {
            "tags": []
          },
          "execution_count": 33
        }
      ]
    },
    {
      "metadata": {
        "id": "EGXYk8k9uyfQ",
        "colab_type": "code",
        "colab": {
          "base_uri": "https://localhost:8080/",
          "height": 34
        },
        "outputId": "777a3e44-5cf0-41b2-f104-745f1a6bca4b"
      },
      "cell_type": "code",
      "source": [
        "# this is a shortcut\n",
        "a | b"
      ],
      "execution_count": 34,
      "outputs": [
        {
          "output_type": "execute_result",
          "data": {
            "text/plain": [
              "{1, 2, 3, 4, 5, 6}"
            ]
          },
          "metadata": {
            "tags": []
          },
          "execution_count": 34
        }
      ]
    },
    {
      "metadata": {
        "id": "clKoy9DstFNU",
        "colab_type": "text"
      },
      "cell_type": "markdown",
      "source": [
        "#### intersection\n",
        "\n",
        "The intersection of two sets has every member which is in both sets.\n",
        "\n"
      ]
    },
    {
      "metadata": {
        "id": "EoD_910LtSOB",
        "colab_type": "code",
        "colab": {
          "base_uri": "https://localhost:8080/",
          "height": 34
        },
        "outputId": "d8ea62b4-53af-492f-edb7-7f4c23ed1e78"
      },
      "cell_type": "code",
      "source": [
        "a.intersection(b)"
      ],
      "execution_count": 35,
      "outputs": [
        {
          "output_type": "execute_result",
          "data": {
            "text/plain": [
              "{3, 4}"
            ]
          },
          "metadata": {
            "tags": []
          },
          "execution_count": 35
        }
      ]
    },
    {
      "metadata": {
        "id": "bHK3fBKfvIeD",
        "colab_type": "code",
        "colab": {
          "base_uri": "https://localhost:8080/",
          "height": 34
        },
        "outputId": "24463677-048d-495c-8478-8043b5596284"
      },
      "cell_type": "code",
      "source": [
        "# here's a shortcut\n",
        "a & b"
      ],
      "execution_count": 36,
      "outputs": [
        {
          "output_type": "execute_result",
          "data": {
            "text/plain": [
              "{3, 4}"
            ]
          },
          "metadata": {
            "tags": []
          },
          "execution_count": 36
        }
      ]
    },
    {
      "metadata": {
        "id": "0ygoXV3_t2Ew",
        "colab_type": "text"
      },
      "cell_type": "markdown",
      "source": [
        "#### difference\n",
        "\n",
        "The difference of sets `A - B` is the every member which is in `A` but not `B`."
      ]
    },
    {
      "metadata": {
        "id": "Qon8xsp9t9u7",
        "colab_type": "code",
        "colab": {
          "base_uri": "https://localhost:8080/",
          "height": 34
        },
        "outputId": "393f19a3-3ba2-4d76-e487-2d3822a80908"
      },
      "cell_type": "code",
      "source": [
        "a.difference(b)"
      ],
      "execution_count": 37,
      "outputs": [
        {
          "output_type": "execute_result",
          "data": {
            "text/plain": [
              "{1, 2}"
            ]
          },
          "metadata": {
            "tags": []
          },
          "execution_count": 37
        }
      ]
    },
    {
      "metadata": {
        "id": "Sb6WEHieukmc",
        "colab_type": "code",
        "colab": {
          "base_uri": "https://localhost:8080/",
          "height": 34
        },
        "outputId": "b5ee5607-582a-4d71-85e5-5779f5daca71"
      },
      "cell_type": "code",
      "source": [
        "# here's a shortcut\n",
        "a - b"
      ],
      "execution_count": 38,
      "outputs": [
        {
          "output_type": "execute_result",
          "data": {
            "text/plain": [
              "{1, 2}"
            ]
          },
          "metadata": {
            "tags": []
          },
          "execution_count": 38
        }
      ]
    },
    {
      "metadata": {
        "id": "OErHOwXauaFA",
        "colab_type": "text"
      },
      "cell_type": "markdown",
      "source": [
        "**Question** \n",
        "* Is `a & b` the same as `b & a`? \n",
        "* Is `a - b` the same as `b - a`?"
      ]
    },
    {
      "metadata": {
        "id": "Cf-DTREPvkPV",
        "colab_type": "text"
      },
      "cell_type": "markdown",
      "source": [
        "**Small teams**\n",
        "\n",
        "Start a code cell with the contents:\n",
        "\n",
        "```python\n",
        "a = {1,2,3,4}\n",
        "b = {3,4,5,6}\n",
        "```\n",
        "\n",
        "Find the set of all items that are not in both sets."
      ]
    },
    {
      "metadata": {
        "id": "_AShetCkw20I",
        "colab_type": "text"
      },
      "cell_type": "markdown",
      "source": [
        "#### Exercise: The Total Union\n",
        "\n",
        "Write a function that computes the total union of a list of sets.\n",
        "\n",
        "```python\n",
        "$ total_union([{1, 2}, {2, 3}, {3, 4}])\n",
        "{1, 2, 3, 4}\n",
        "$ total_union([{1, 2, 3, 4}, {1, 2, 3}, {1, 2}])\n",
        "{1, 2, 3, 4}\n",
        "```\n",
        "\n"
      ]
    },
    {
      "metadata": {
        "id": "gKd28a-mw_6F",
        "colab_type": "text"
      },
      "cell_type": "markdown",
      "source": [
        "#### Exercise: The Total Intersection\n",
        "\n",
        "Write a function that computes the total intersection of a list of sets.\n",
        "\n",
        "```python\n",
        "$ total_intersection([{1, 2}, {2, 3}, {3, 4}])\n",
        "{}\n",
        "$ total_intersection([{1, 2, 3, 4}, {1, 2, 3}, {1, 2}])\n",
        "{1, 2}\n",
        "```"
      ]
    },
    {
      "metadata": {
        "id": "vW7BdVNJy1VY",
        "colab_type": "text"
      },
      "cell_type": "markdown",
      "source": [
        "### 2.5 Building a set incrementally with `add`.\n",
        "\n",
        "  - The `.add` method and the builder pattern.\n",
        "  - Yup, this means sets are mutable.\n",
        "\n"
      ]
    },
    {
      "metadata": {
        "id": "EQqLKO36y3yL",
        "colab_type": "text"
      },
      "cell_type": "markdown",
      "source": [
        "#### Exercise: List to Set\n",
        "Write a function `list_to_set` that converts a list into a set\n",
        "\n",
        "```python\n",
        "$ list_to_set([1, 2, 3, 4])\n",
        "{1, 2, 3, 4}\n",
        "$ list_to_set([])\n",
        "set([])\n",
        "```"
      ]
    },
    {
      "metadata": {
        "id": "NTlI4qh0y6lO",
        "colab_type": "text"
      },
      "cell_type": "markdown",
      "source": [
        "#### Exercise: The Set of Primes\n",
        "\n",
        "Write a function that takes as argument a positive integer `n`, and returns the set of prime numbers less than or equal to `n`.\n",
        "\n",
        "```python\n",
        "$ primes(10)\n",
        "{2, 3, 5, 7}\n",
        "$ primes(100)\n",
        "{2, 3, 5, 7, 11, 13, 17, 19, 23, 29, 31, 37, 41, 43, 47, 53, 59, 61, 67, 71, 73, 79, 83, 89, 97}\n",
        "```\n",
        "\n",
        "**hint** If you use sets in the algorithm, the implementation can be as short as four lines."
      ]
    },
    {
      "metadata": {
        "id": "qtIAG_BloAlF",
        "colab_type": "text"
      },
      "cell_type": "markdown",
      "source": [
        "\n",
        "### 2.6 The `in` operator.\n",
        "\n",
        "  - Efficiency of the `in` operator for lists vs. sets.\n",
        "  - Reading in a file.\n",
        "  - Checking whether a word is in a book, list vs. set.\n",
        "  \n",
        "**Question, for pairs** \n",
        "* What kind of data would you want to typically represent with a set? \n",
        "* When would it be appropriate to convert a list to a set?\n",
        "\n"
      ]
    },
    {
      "metadata": {
        "id": "ke5lYfgQ3L3O",
        "colab_type": "text"
      },
      "cell_type": "markdown",
      "source": [
        "## 3 Dictionaries\n",
        "\n",
        "#### Exercise: List of Tuples\n",
        "\n",
        "Consider the case of lists-of-tuples.  Here's an example where the first element of each tuple is a post-punk band, and the second element of each tuple is an important album they recorded\n",
        "\n",
        "```python\n",
        "post_punk_albums = [\n",
        "    (\"Wire\", \"Pink Flag\"),\n",
        "    (\"Gang of Four\", \"Entertainment!\"),\n",
        "    (\"Joy Division\", \"Unknown Pleasures\"),\n",
        "    (\"Pere Ubu\", \"Dub Housing\"),\n",
        "    (\"Public Image Ltd\", \"First Issue\")\n",
        "]\n",
        "```"
      ]
    },
    {
      "metadata": {
        "id": "uHr45r5c3emX",
        "colab_type": "text"
      },
      "cell_type": "markdown",
      "source": [
        "We can think of a data structure like this as a *mapping* from bands to albums.  In abstract, we will refer to the first element of such a tuple as a **key** and the second as a **value**.\n",
        "\n",
        "**Individual coding** Write a function that consumes a list of two-tuples and the value of a key, and returns the value stored in the tuple with that key.  For example\n",
        "\n",
        "```\n",
        "$ lookup_by_key(post_punk_albums, \"Pere Ubu\")\n",
        "\"Dub Housing\"\n",
        "```"
      ]
    },
    {
      "metadata": {
        "id": "Jy6jVatn32_1",
        "colab_type": "text"
      },
      "cell_type": "markdown",
      "source": [
        "Dictionaries encode this kind of data - where there is a one-to-one **association** between one set (e.g, post-punk bands) and another set (e.g., their most important album).\n",
        "\n",
        "> **sidebar** In mathematics, a one-to-one mapping between two sets is called a _bijection_.\n",
        "\n",
        "### 3.1 Definition\n",
        "\n",
        "* Like a set, a series of items between curly braces.\n",
        "* Each item, however, is a pair of values separated by a colon:"
      ]
    },
    {
      "metadata": {
        "id": "EF27dkDJ5Z3z",
        "colab_type": "code",
        "colab": {}
      },
      "cell_type": "code",
      "source": [
        "post_punk_albums = {\n",
        "    \"Wire\": \"Pink Flag\",\n",
        "    \"Gang of Four\": \"Entertainment!\",\n",
        "    \"Joy Division\": \"Unknown Pleasures\",\n",
        "    \"Pere Ubu\": \"Dub Housing\",\n",
        "    \"Public Image Ltd\": \"First Issue\"\n",
        "}"
      ],
      "execution_count": 0,
      "outputs": []
    },
    {
      "metadata": {
        "id": "uGLMwkaW5okC",
        "colab_type": "text"
      },
      "cell_type": "markdown",
      "source": [
        "### 3.2 Indexing into a Dictionary\n",
        "\n",
        "Dictionary items are accessed like list items, but with _keys_ instead of _indexes_."
      ]
    },
    {
      "metadata": {
        "id": "nr7_qiK25n2O",
        "colab_type": "code",
        "colab": {
          "base_uri": "https://localhost:8080/",
          "height": 34
        },
        "outputId": "987e3fca-ded6-4467-d927-baca676f2cb5"
      },
      "cell_type": "code",
      "source": [
        "post_punk_albums[ \"Joy Division\" ]"
      ],
      "execution_count": 68,
      "outputs": [
        {
          "output_type": "execute_result",
          "data": {
            "text/plain": [
              "'Unknown Pleasures'"
            ]
          },
          "metadata": {
            "tags": []
          },
          "execution_count": 68
        }
      ]
    },
    {
      "metadata": {
        "id": "EZVtzpuB5_R9",
        "colab_type": "text"
      },
      "cell_type": "markdown",
      "source": [
        "#### Individual coding: A Negative Dictionary\n",
        "Write a function `negative_lookup` that takes a dictionary and an integer as arguments, and looks up the value stored under the *negative* of that integer.\n",
        "\n",
        "```\n",
        "$ negative_lookup({1: 'one', -1: 'negative one'}, 1}\n",
        "\"negative one\"\n",
        "```"
      ]
    },
    {
      "metadata": {
        "id": "cvBsHXo66ZKx",
        "colab_type": "text"
      },
      "cell_type": "markdown",
      "source": [
        "\n",
        "### Efficiency of dictionaries vs. lists of tuples.\n",
        "\n",
        "**Question to the classroom**"
      ]
    },
    {
      "metadata": {
        "id": "Ss1B0cTZ6nod",
        "colab_type": "text"
      },
      "cell_type": "markdown",
      "source": [
        "### 3.3 The `.get` Method\n",
        "\n",
        "Attrempting to access an item that isn't in a list causes an error."
      ]
    },
    {
      "metadata": {
        "id": "7jnqZbVe67tC",
        "colab_type": "code",
        "colab": {
          "base_uri": "https://localhost:8080/",
          "height": 181
        },
        "outputId": "2b804f08-c922-418a-d394-f043a7fc274b"
      },
      "cell_type": "code",
      "source": [
        "a_dict = {'foo':'bar', 'biz':'baz'}\n",
        "a_dict[ \"🤡\" ]"
      ],
      "execution_count": 75,
      "outputs": [
        {
          "output_type": "error",
          "ename": "KeyError",
          "evalue": "ignored",
          "traceback": [
            "\u001b[0;31m---------------------------------------------------------------------------\u001b[0m",
            "\u001b[0;31mKeyError\u001b[0m                                  Traceback (most recent call last)",
            "\u001b[0;32m<ipython-input-75-1dc1cef690c5>\u001b[0m in \u001b[0;36m<module>\u001b[0;34m()\u001b[0m\n\u001b[1;32m      1\u001b[0m \u001b[0ma_dict\u001b[0m \u001b[0;34m=\u001b[0m \u001b[0;34m{\u001b[0m\u001b[0;34m'foo'\u001b[0m\u001b[0;34m:\u001b[0m\u001b[0;34m'bar'\u001b[0m\u001b[0;34m,\u001b[0m \u001b[0;34m'biz'\u001b[0m\u001b[0;34m:\u001b[0m\u001b[0;34m'baz'\u001b[0m\u001b[0;34m}\u001b[0m\u001b[0;34m\u001b[0m\u001b[0m\n\u001b[0;32m----> 2\u001b[0;31m \u001b[0ma_dict\u001b[0m\u001b[0;34m[\u001b[0m \u001b[0;34m\"🤡\"\u001b[0m \u001b[0;34m]\u001b[0m\u001b[0;34m\u001b[0m\u001b[0m\n\u001b[0m",
            "\u001b[0;31mKeyError\u001b[0m: '🤡'"
          ]
        }
      ]
    },
    {
      "metadata": {
        "id": "TYINEsXp7Mij",
        "colab_type": "text"
      },
      "cell_type": "markdown",
      "source": [
        "If you would like a dict access to fail gracefully, use `.get`."
      ]
    },
    {
      "metadata": {
        "id": "rshC--_Y7RRK",
        "colab_type": "code",
        "colab": {
          "base_uri": "https://localhost:8080/",
          "height": 34
        },
        "outputId": "98017904-4186-4c86-d6ad-38f83d0ded0f"
      },
      "cell_type": "code",
      "source": [
        "print( a_dict.get(\"something_that_isn't_there\") )"
      ],
      "execution_count": 76,
      "outputs": [
        {
          "output_type": "stream",
          "text": [
            "None\n"
          ],
          "name": "stdout"
        }
      ]
    },
    {
      "metadata": {
        "id": "hmnye_UX7_Go",
        "colab_type": "text"
      },
      "cell_type": "markdown",
      "source": [
        "### 3.4 The `in` operator\n",
        "\n",
        "The `in` operator tests if a value is in the set of a dictionary's _keys_."
      ]
    },
    {
      "metadata": {
        "id": "jpC_oets8QcF",
        "colab_type": "code",
        "colab": {
          "base_uri": "https://localhost:8080/",
          "height": 51
        },
        "outputId": "ffb3581f-61b8-46b8-d5c7-0ffe524eff36"
      },
      "cell_type": "code",
      "source": [
        "a_dict = {'biz':'baz', 'foo':'bar'}\n",
        "print( \"biz\" in a_dict )\n",
        "print( \"baz\" in a_dict )"
      ],
      "execution_count": 79,
      "outputs": [
        {
          "output_type": "stream",
          "text": [
            "True\n",
            "False\n"
          ],
          "name": "stdout"
        }
      ]
    },
    {
      "metadata": {
        "id": "iLkfFmnw8v-U",
        "colab_type": "text"
      },
      "cell_type": "markdown",
      "source": [
        "#### Pair coding: Positive or Negative Lookup\n",
        "Write a function `positive_or_negative_lookup` that takes a dictionary and an integer as arguments.  If the integer is a key in the dictionary, return the value stored under that key.  Otherwise, if the negative of the integer is a key in the dictionary, return the value stored under the negative of the key.  If both of these fail, return `False`.\n",
        "\n",
        "```\n",
        "$ positive_or_negative_lookup({1: 'one', -2: 'negative two'}, 1)\n",
        "\"one\"\n",
        "$ positive_or_negative_lookup({1: 'one', -2: 'negative two'}, 2)\n",
        "\"negative two\"\n",
        "$ positive_or_negative_lookup({1: 'one', -2: 'negative two'}, 3)\n",
        "False\n",
        "```"
      ]
    },
    {
      "metadata": {
        "id": "8Fwcm3jk86TQ",
        "colab_type": "text"
      },
      "cell_type": "markdown",
      "source": [
        "### 3.5 Building a Dictionary Incrementally\n",
        "\n",
        "  - Creating empty dictionaries"
      ]
    },
    {
      "metadata": {
        "id": "N7xYSCX58935",
        "colab_type": "code",
        "colab": {
          "base_uri": "https://localhost:8080/",
          "height": 34
        },
        "outputId": "383d890d-a118-44dc-d0da-501cf7d315d8"
      },
      "cell_type": "code",
      "source": [
        "empty_dict = {}\n",
        "print( empty_dict )"
      ],
      "execution_count": 81,
      "outputs": [
        {
          "output_type": "stream",
          "text": [
            "{}\n"
          ],
          "name": "stdout"
        }
      ]
    },
    {
      "metadata": {
        "id": "vGu-g5yt9Gk8",
        "colab_type": "text"
      },
      "cell_type": "markdown",
      "source": [
        "  - Building a dictionary incrementally"
      ]
    },
    {
      "metadata": {
        "id": "C1shHnj-9Hd7",
        "colab_type": "code",
        "colab": {
          "base_uri": "https://localhost:8080/",
          "height": 34
        },
        "outputId": "9fa13d3f-f7df-4f20-a6bb-2e5cfa4cc0ed"
      },
      "cell_type": "code",
      "source": [
        "a = {}\n",
        "for i in range(5):\n",
        "  a[i] = str(i)*3\n",
        "a"
      ],
      "execution_count": 82,
      "outputs": [
        {
          "output_type": "execute_result",
          "data": {
            "text/plain": [
              "{0: '000', 1: '111', 2: '222', 3: '333', 4: '444'}"
            ]
          },
          "metadata": {
            "tags": []
          },
          "execution_count": 82
        }
      ]
    },
    {
      "metadata": {
        "id": "0moKnu-k9Sh2",
        "colab_type": "text"
      },
      "cell_type": "markdown",
      "source": [
        "#### Individual coding: Alphabet Dictionary\n",
        "Create a dictionary whose keys are letters in the alphabet, and whose values are their *position* within the alphabet."
      ]
    },
    {
      "metadata": {
        "id": "PWj55v8V9ZiZ",
        "colab_type": "text"
      },
      "cell_type": "markdown",
      "source": [
        "#### Pair coding: Dictionary Reversal\n",
        "Write a function `reverse_dictionary` that swaps the roles of keys and values in a dictionary.\n",
        "\n",
        "```python\n",
        "$ reverse_dictionary({'a': 1, 'b': 2, 'c': 3})\n",
        "{1: 'a', 2: 'b', 3: 'c'}\n",
        "```"
      ]
    },
    {
      "metadata": {
        "id": "evrazVlP-Cf_",
        "colab_type": "text"
      },
      "cell_type": "markdown",
      "source": [
        "\n",
        "### 3.6 Restrictions on Dictionary Keys\n",
        "\n",
        "Dictionary keys must be instance of immutable types.\n",
        "\n",
        "**Cold call** What are examples of immutable values? Mutable types?\n",
        "\n",
        "Technically, this is incorrect. Dictionary keys must be _hashable_. In practice this is very similar to being immutable. However, instances of custom objects may be mutable and provide a hash method, though this is bad form."
      ]
    },
    {
      "metadata": {
        "id": "AJC91OKP-E6X",
        "colab_type": "text"
      },
      "cell_type": "markdown",
      "source": [
        "#### Individual coding: Number Pairs\n",
        "Write a function that consumes a list of numbers, then returns a dictionary whose keys are *pairs* of these numbers, and whose values are the sum of the two numbers.  For example, under the pair 2, 3, we would store the sum number 5.\n",
        "\n",
        "```python\n",
        "$ dict_of_sums([1, 2, 3])\n",
        "{(0, 0): 2, (0, 1): 3, (0, 2): 4, (1, 1): 4, (1, 2): 5, (2, 2): 6}\n",
        "```"
      ]
    },
    {
      "metadata": {
        "id": "5Gv9xHVe-sUm",
        "colab_type": "text"
      },
      "cell_type": "markdown",
      "source": [
        "#### Pair coding: Dictionary Reversal Revisited\n",
        "As we have seen, when we add a key to a dictionary multiple times, the value gets overwritten.  This has consequences for reversing a dictionary\n",
        "\n",
        "```python\n",
        "$ reverse_dict({'a': 1, 'b': 2, 'c': 2}) \n",
        "{1: 'a', 2: 'c'}\n",
        "```\n",
        "\n",
        "Fix this issue in your `reverse_dictionary` function by instead creating a dictionary of lists.\n",
        "\n",
        "```python\n",
        "$ reverse_dict({'a': 1, 'b': 2, 'c': 2})\n",
        "{1: ['a'], 2: ['b', 'c']}\n",
        "```\n",
        "\n",
        "### 3.7 Looping over dictionaries.\n",
        "\n",
        "  - Looping over the keys in a dictionaries"
      ]
    },
    {
      "metadata": {
        "id": "naeshJhr-tsY",
        "colab_type": "code",
        "colab": {
          "base_uri": "https://localhost:8080/",
          "height": 68
        },
        "outputId": "36748cc9-e588-4430-9ad2-54451c4295f4"
      },
      "cell_type": "code",
      "source": [
        "for key in {'foo':'bar', 'black':'flag', 1:'steaksauce'}:\n",
        "  print( key)"
      ],
      "execution_count": 83,
      "outputs": [
        {
          "output_type": "stream",
          "text": [
            "foo\n",
            "black\n",
            "1\n"
          ],
          "name": "stdout"
        }
      ]
    },
    {
      "metadata": {
        "id": "gpLd2F8O-8Ey",
        "colab_type": "text"
      },
      "cell_type": "markdown",
      "source": [
        "\n",
        "  - Other looping options: python 2 vs. python 3\n",
        "  \n",
        " When you perform a list comprehension on a dictionary, it operates on the keys:"
      ]
    },
    {
      "metadata": {
        "id": "0USaGI6c-9Sc",
        "colab_type": "code",
        "colab": {
          "base_uri": "https://localhost:8080/",
          "height": 34
        },
        "outputId": "ba945842-8ed5-471c-81d7-87ef1e9c4034"
      },
      "cell_type": "code",
      "source": [
        "a_dict = {'foo':'bar', 'black':'flag'}\n",
        "[key.upper() for key in a_dict]"
      ],
      "execution_count": 87,
      "outputs": [
        {
          "output_type": "execute_result",
          "data": {
            "text/plain": [
              "['FOO', 'BLACK']"
            ]
          },
          "metadata": {
            "tags": []
          },
          "execution_count": 87
        }
      ]
    },
    {
      "metadata": {
        "id": "lzeJpjhP_Ww9",
        "colab_type": "text"
      },
      "cell_type": "markdown",
      "source": [
        "If you want to iterate over both the keys and values of a dict, use `.items()`"
      ]
    },
    {
      "metadata": {
        "id": "Jf5AZZYg_iK8",
        "colab_type": "code",
        "colab": {
          "base_uri": "https://localhost:8080/",
          "height": 34
        },
        "outputId": "ac8691b0-f57d-4e70-9d24-98326581b80b"
      },
      "cell_type": "code",
      "source": [
        "a_dict = {'foo':'bar', 'black':'flag'}\n",
        "[key.upper()+\"! \"+val.upper()+\"!\" for key,val in a_dict.items()]"
      ],
      "execution_count": 89,
      "outputs": [
        {
          "output_type": "execute_result",
          "data": {
            "text/plain": [
              "['FOO! BAR!', 'BLACK! FLAG!']"
            ]
          },
          "metadata": {
            "tags": []
          },
          "execution_count": 89
        }
      ]
    },
    {
      "metadata": {
        "id": "-N-mvk-R_tEY",
        "colab_type": "text"
      },
      "cell_type": "markdown",
      "source": [
        "Python 3 offers a _dict comprehension_. They look like this:"
      ]
    },
    {
      "metadata": {
        "id": "O-L6rkmR_3IX",
        "colab_type": "code",
        "colab": {
          "base_uri": "https://localhost:8080/",
          "height": 34
        },
        "outputId": "b6314733-9655-411b-dd3d-fb922c8c2917"
      },
      "cell_type": "code",
      "source": [
        "a_dict = {'foo':'bar', 'black':'flag'}\n",
        "{key.upper():val for key,val in a_dict.items()}"
      ],
      "execution_count": 90,
      "outputs": [
        {
          "output_type": "execute_result",
          "data": {
            "text/plain": [
              "{'BLACK': 'flag', 'FOO': 'bar'}"
            ]
          },
          "metadata": {
            "tags": []
          },
          "execution_count": 90
        }
      ]
    },
    {
      "metadata": {
        "id": "a7peOPGZnL33",
        "colab_type": "text"
      },
      "cell_type": "markdown",
      "source": [
        "\n",
        "\n",
        "#### Individual coding: Merging Dictionaries\n",
        "Write a function `merge_dictionaries` which takes two dictionaries are arguments, and returns a *merged* dictionary.  That is, one containing any key, value pair that appears in *either* dictionary.\n"
      ]
    }
  ]
}