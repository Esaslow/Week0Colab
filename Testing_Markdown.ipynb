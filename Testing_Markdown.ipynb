{
  "nbformat": 4,
  "nbformat_minor": 0,
  "metadata": {
    "colab": {
      "name": "Testing Markdown.ipynb",
      "version": "0.3.2",
      "provenance": [],
      "include_colab_link": true
    },
    "kernelspec": {
      "name": "python3",
      "display_name": "Python 3"
    }
  },
  "cells": [
    {
      "cell_type": "markdown",
      "metadata": {
        "id": "view-in-github",
        "colab_type": "text"
      },
      "source": [
        "[View in Colaboratory](https://colab.research.google.com/github/Esaslow/Week0Colab/blob/master/Testing_Markdown.ipynb)"
      ]
    },
    {
      "metadata": {
        "id": "Rsdp8aexGvvC",
        "colab_type": "code",
        "colab": {}
      },
      "cell_type": "code",
      "source": [
        ""
      ],
      "execution_count": 0,
      "outputs": []
    },
    {
      "metadata": {
        "id": "wwPWAgteHBu6",
        "colab_type": "text"
      },
      "cell_type": "markdown",
      "source": [
        "For the afternoon assignment we'll begin using jupyter notebooks. Notebooks are a great way to do exploratory data analysis and test things out. But they aren't really appropriate for developing code, so we haven't used them so far.\n",
        "\n",
        "The first thing you'll see is that there are two types of cells. Some have a `In[ ]` before them; these are code cells, like below. If you click in a code cell, and hit `<return>` while holding down `<shift>` the code in the cell will be executed.\n",
        "\n",
        "\n",
        "\n",
        "---\n",
        "\n",
        "\n",
        "\n"
      ]
    }
  ]
}