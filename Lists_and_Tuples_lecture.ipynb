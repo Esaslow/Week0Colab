{
  "nbformat": 4,
  "nbformat_minor": 0,
  "metadata": {
    "colab": {
      "name": "Lists and Tuples lecture.ipynb",
      "version": "0.3.2",
      "provenance": [],
      "collapsed_sections": [],
      "toc_visible": true,
      "include_colab_link": true
    },
    "kernelspec": {
      "display_name": "Python 3",
      "language": "python",
      "name": "python3"
    }
  },
  "cells": [
    {
      "cell_type": "markdown",
      "metadata": {
        "id": "view-in-github",
        "colab_type": "text"
      },
      "source": [
        "[View in Colaboratory](https://colab.research.google.com/github/Esaslow/Week0Colab/blob/master/Lists_and_Tuples_lecture.ipynb)"
      ]
    },
    {
      "metadata": {
        "id": "yEr6-bRIpkmz",
        "colab_type": "text"
      },
      "cell_type": "markdown",
      "source": [
        "## Making your VM jupyter notebook accessable always\n",
        "- Using **tmux**\n",
        "---\n",
        "1. ssh to your **virtual machine**\n",
        "2. Start new tmux session:  _tmux_\n",
        "3. In the current tmux session start new jupyter notebook: _jupyter notebook_\n",
        "4. Detach from tmux session by using the command:  _cntrl+b_ then _d_\n",
        "\n",
        "To reattach:\n",
        "1. Look at all tmux sessions: _tmux ls_\n",
        "2. Choose which session you would like to attach to (in this case I chose session 0):\n",
        "_tmux a -t 0_\n",
        "\n",
        "\n",
        "\n"
      ]
    },
    {
      "metadata": {
        "id": "3ozKVo_0c3ws",
        "colab_type": "text"
      },
      "cell_type": "markdown",
      "source": [
        "# Review from yesterday \n",
        "\n",
        "1. Types of variables:\n",
        "  - Strings (words)\n",
        "  - Numbers (Floats and Integers)\n",
        "2. If, Else, Not  statements\n",
        "\n",
        "Lets consider that we may want to store many of these variables in a single data structure\n",
        "\n",
        "### Goals:\n",
        "\n",
        "- How do we store many pieces of data in a single structure?\n",
        "- What kind of structures do we have available to us?\n",
        "- How can we manipulate these datastructures and use the data in them?\n",
        "- Remember **list** is a protected keyword!!\n",
        "----"
      ]
    },
    {
      "metadata": {
        "id": "jFkMWoTWtp0A",
        "colab_type": "text"
      },
      "cell_type": "markdown",
      "source": [
        "# Collections and Iteration\n",
        "### Collection = Holding data\n",
        "### Iteration = Going through data in Collection\n"
      ]
    },
    {
      "metadata": {
        "id": "lcQlnJD6pkm1",
        "colab_type": "text"
      },
      "cell_type": "markdown",
      "source": [
        "**Collections** are a class of data types that gather together conceptually related data into a whole. \n",
        "\n",
        "**Examples:**\n",
        "- lists\n",
        "- sets\n",
        "- tuples\n",
        "- dictionaries\n",
        "\n",
        "#### Question?  What are the differences between these collections? \n",
        "\n",
        "\n",
        "We will discuss four main types of collections today: **lists, tuples, sets, and dictionaries**\n",
        "\n",
        "Brandon will be teaching you more about **Sets** and **Dictionaries**, while I will introduce **Lists** and **Tuples**\n",
        "\n",
        "**Iteration** is the process of visiting each member of a collection, and taking an action on it. \n",
        "\n",
        "For example, we could visit all the strings in a list and join the various words into a sentence, or we could visit all the numbers in a set and calculate the sum of them all."
      ]
    },
    {
      "metadata": {
        "id": "4ef7RjUnpkm2",
        "colab_type": "text"
      },
      "cell_type": "markdown",
      "source": [
        "-----\n",
        "## Lists\n",
        "\n",
        "- list notation:\n",
        "` [.....]`\n",
        "\n",
        "#### What can go inside a list?\n",
        "\n",
        "- Numbers\n",
        "- Strings\n",
        "- Numbers and strings\n",
        "- Other lists (matrix)\n"
      ]
    },
    {
      "metadata": {
        "id": "uKmySZsRpkm3",
        "colab_type": "code",
        "colab": {}
      },
      "cell_type": "code",
      "source": [
        "lst1 = [1,2,3,4]\n",
        "lst2 = ['strings','can','go','in','lists']\n",
        "lst3 = ['strings', 'and',3,4,5]\n",
        "lst4 = ['pretty much anything can go in here!']"
      ],
      "execution_count": 0,
      "outputs": []
    },
    {
      "metadata": {
        "id": "zOGxpBy4pkm6",
        "colab_type": "text"
      },
      "cell_type": "markdown",
      "source": [
        "#### What is the length of a list\n",
        "- The number of pieces of data that we are storing in the list"
      ]
    },
    {
      "metadata": {
        "id": "jaXiHcLDpkm7",
        "colab_type": "code",
        "colab": {
          "base_uri": "https://localhost:8080/",
          "height": 34
        },
        "outputId": "00bd8e9e-a857-4cb0-b779-281b8da24c2d"
      },
      "cell_type": "code",
      "source": [
        "# Length of list 1\n",
        "print('The length of list one is: ',len(lst1))"
      ],
      "execution_count": 3,
      "outputs": [
        {
          "output_type": "stream",
          "text": [
            "The length of list one is:  4\n"
          ],
          "name": "stdout"
        }
      ]
    },
    {
      "metadata": {
        "id": "pYtYL3AEpknB",
        "colab_type": "code",
        "colab": {
          "base_uri": "https://localhost:8080/",
          "height": 34
        },
        "outputId": "4378a9ad-aff1-4714-846e-52a24bef12ae"
      },
      "cell_type": "code",
      "source": [
        "# Length of list 3\n",
        "print('The length of list one is: ',len(lst3))"
      ],
      "execution_count": 4,
      "outputs": [
        {
          "output_type": "stream",
          "text": [
            "The length of list one is:  5\n"
          ],
          "name": "stdout"
        }
      ]
    },
    {
      "metadata": {
        "id": "a-gZldAKd433",
        "colab_type": "text"
      },
      "cell_type": "markdown",
      "source": [
        "### Your Turn -- (with a partner)\n",
        "1. Add a cell\n",
        "2. Create a list (put whatever you want in it)\n",
        "3. Find the length of the list\n",
        "\n",
        "**Challange: Using the length of the list and algebraic operations, make the notebook print out the number 6 (without the length of the list being 6)**\n"
      ]
    },
    {
      "metadata": {
        "id": "Tha-7S0EpknE",
        "colab_type": "text"
      },
      "cell_type": "markdown",
      "source": [
        "#### Indexes!  \n",
        "- The index refers to the location that data point is at\n",
        "\n",
        "For example with out list `lst1 = [1,2,3,4]` the number `1` is at the 0th index and the number `4` is at the 3rd index.  Lets explore this a little more"
      ]
    },
    {
      "metadata": {
        "id": "XKr5494cpknG",
        "colab_type": "code",
        "colab": {
          "base_uri": "https://localhost:8080/",
          "height": 34
        },
        "outputId": "176e8631-3628-4c35-f421-ff13fd2454f4"
      },
      "cell_type": "code",
      "source": [
        "# Print the list\n",
        "print(lst1)"
      ],
      "execution_count": 5,
      "outputs": [
        {
          "output_type": "stream",
          "text": [
            "[1, 2, 3, 4]\n"
          ],
          "name": "stdout"
        }
      ]
    },
    {
      "metadata": {
        "id": "g0TdPhVopknI",
        "colab_type": "code",
        "colab": {
          "base_uri": "https://localhost:8080/",
          "height": 34
        },
        "outputId": "ede5e237-e280-46f6-a5c0-b3e1bde8b18f"
      },
      "cell_type": "code",
      "source": [
        "# Get the item at index 0\n",
        "lst1[0]"
      ],
      "execution_count": 6,
      "outputs": [
        {
          "output_type": "execute_result",
          "data": {
            "text/plain": [
              "1"
            ]
          },
          "metadata": {
            "tags": []
          },
          "execution_count": 6
        }
      ]
    },
    {
      "metadata": {
        "id": "w9qQzIx0pknM",
        "colab_type": "code",
        "colab": {
          "base_uri": "https://localhost:8080/",
          "height": 34
        },
        "outputId": "07c65b2b-50a6-460a-a8d0-f9063589002b"
      },
      "cell_type": "code",
      "source": [
        "# Get the items starting at index 1 and going to index 2\n",
        "lst1[1:3]"
      ],
      "execution_count": 7,
      "outputs": [
        {
          "output_type": "execute_result",
          "data": {
            "text/plain": [
              "[2, 3]"
            ]
          },
          "metadata": {
            "tags": []
          },
          "execution_count": 7
        }
      ]
    },
    {
      "metadata": {
        "id": "Uwxk5jm_pknP",
        "colab_type": "code",
        "colab": {
          "base_uri": "https://localhost:8080/",
          "height": 34
        },
        "outputId": "a756bcd0-6564-4900-bce7-1dda7eb46594"
      },
      "cell_type": "code",
      "source": [
        "# Get the items up to index 3\n",
        "lst1[:3]"
      ],
      "execution_count": 8,
      "outputs": [
        {
          "output_type": "execute_result",
          "data": {
            "text/plain": [
              "[1, 2, 3]"
            ]
          },
          "metadata": {
            "tags": []
          },
          "execution_count": 8
        }
      ]
    },
    {
      "metadata": {
        "id": "vUUYlMQ9pknT",
        "colab_type": "code",
        "colab": {
          "base_uri": "https://localhost:8080/",
          "height": 34
        },
        "outputId": "8a8ece7a-1519-4aea-da2d-189780181d97"
      },
      "cell_type": "code",
      "source": [
        "# Get the items from index 1 to the end\n",
        "lst1[1:]"
      ],
      "execution_count": 9,
      "outputs": [
        {
          "output_type": "execute_result",
          "data": {
            "text/plain": [
              "[2, 3, 4]"
            ]
          },
          "metadata": {
            "tags": []
          },
          "execution_count": 9
        }
      ]
    },
    {
      "metadata": {
        "id": "Od10uk5ZpknV",
        "colab_type": "text"
      },
      "cell_type": "markdown",
      "source": [
        "### Your turn!  Lets say that we have the following list:\n",
        "\n",
        "`lst = [10,3,4,2,50,22,18,19]`\n",
        "\n",
        "- What index is 10 at?\n",
        "\n",
        "- What index is 50 at?\n",
        "\n",
        "- What code would I use to get the numbers `[4,2,50,22]`?\n"
      ]
    },
    {
      "metadata": {
        "id": "RO7fNJkjglPA",
        "colab_type": "code",
        "colab": {
          "base_uri": "https://localhost:8080/",
          "height": 34
        },
        "outputId": "2da92d3e-80c2-40e0-b72b-dbe66193a2e0"
      },
      "cell_type": "code",
      "source": [
        "#Elliott \n",
        "lst = [10,3,4,2,50,22,18,19]\n",
        "lst[0]"
      ],
      "execution_count": 14,
      "outputs": [
        {
          "output_type": "execute_result",
          "data": {
            "text/plain": [
              "10"
            ]
          },
          "metadata": {
            "tags": []
          },
          "execution_count": 14
        }
      ]
    },
    {
      "metadata": {
        "id": "6l5oK0nUemLE",
        "colab_type": "text"
      },
      "cell_type": "markdown",
      "source": [
        "### Common Methods that can be applied to a list:\n",
        "\n",
        "#### Appending to a list \n",
        "\n",
        "You can add to the end of a list using the append method! \n",
        "\n",
        "`lst.append(number)`\n",
        "\n",
        "\n",
        "#### Insterting into a specific index\n",
        "\n",
        "Inserts the element at the given index, shifting elements to the right.\n",
        "\n",
        "`list.insert(index, elem)`\n",
        "\n",
        "#### Extending a list\n",
        "\n",
        "Adds the elements in list2 to the end of the list.\n",
        "\n",
        "`list.extend(list2) `\n",
        "\n",
        "You can append as may numbers as you like to a list, but if your list get HUGE you will find it slows down operations dramatically"
      ]
    },
    {
      "metadata": {
        "id": "rtwvKfcdelMD",
        "colab_type": "code",
        "colab": {
          "base_uri": "https://localhost:8080/",
          "height": 52
        },
        "outputId": "861b4bd3-7265-40d1-83cc-785c13f7ef96"
      },
      "cell_type": "code",
      "source": [
        "lst = [1,2,3]\n",
        "print('Here is the list: ',lst)\n",
        "lst.append(10)\n",
        "print('Here is the list with a number appended to it! ',lst)"
      ],
      "execution_count": 12,
      "outputs": [
        {
          "output_type": "stream",
          "text": [
            "Here is the list:  [1, 2, 3]\n",
            "Here is the list with a number appended to it!  [1, 2, 3, 10]\n"
          ],
          "name": "stdout"
        }
      ]
    },
    {
      "metadata": {
        "id": "9_nUWCrfgaPe",
        "colab_type": "text"
      },
      "cell_type": "markdown",
      "source": [
        "### Your turn!  \n",
        "1. Create a list **(Dont use the name list -- Its protected)**\n",
        "2. Insert a value into the front of the list\n",
        "3. Append a value to back of the list\n",
        "4. Insert a value in the middle of the list (you pick the index)\n",
        "5. Extend your list with a list that someone else made!"
      ]
    },
    {
      "metadata": {
        "id": "lT8AFu9lhAby",
        "colab_type": "code",
        "colab": {}
      },
      "cell_type": "code",
      "source": [
        ""
      ],
      "execution_count": 0,
      "outputs": []
    },
    {
      "metadata": {
        "id": "Un7Ih65CpknX",
        "colab_type": "text"
      },
      "cell_type": "markdown",
      "source": [
        "## The `In` operator\n",
        "We can use the in operatior to see if a number exists in our list\n",
        "\n",
        "This will return a true or false answer"
      ]
    },
    {
      "metadata": {
        "id": "xxaMyfXVpknX",
        "colab_type": "code",
        "colab": {
          "base_uri": "https://localhost:8080/",
          "height": 105
        },
        "outputId": "1641fca1-95c2-4214-db27-06eb73fb5516"
      },
      "cell_type": "code",
      "source": [
        "lst = [10,3,4,2,50,22,18,19]\n",
        "print(4 in lst)\n",
        "print(33 in lst)\n",
        "print('hello' in lst)\n",
        "print('--'*50)\n",
        "\n",
        "\n",
        "if 4 in lst:\n",
        "  print('Wow I can use the in operator to generate booleans!')"
      ],
      "execution_count": 17,
      "outputs": [
        {
          "output_type": "stream",
          "text": [
            "True\n",
            "False\n",
            "False\n",
            "----------------------------------------------------------------------------------------------------\n",
            "Wow I can use the in operator to generate booleans!\n"
          ],
          "name": "stdout"
        }
      ]
    },
    {
      "metadata": {
        "id": "K_6rSuZMhTnI",
        "colab_type": "text"
      },
      "cell_type": "markdown",
      "source": [
        "### Your turn\n",
        "\n",
        "1. Create a new list\n",
        "2. Check to see if 'Cat' is in your list\n",
        "  - If it isn't add 'Cat' to your list\n",
        "  - if it is print 'I read Elliott's mind and added cat to my list'\n",
        " \n",
        "Play with the in operator and see if it works with floats, integers, and strings!"
      ]
    },
    {
      "metadata": {
        "id": "ttgSib0Epkna",
        "colab_type": "code",
        "colab": {
          "base_uri": "https://localhost:8080/",
          "height": 34
        },
        "outputId": "b90e40f1-cace-43e8-b59c-18cd967abf9d"
      },
      "cell_type": "code",
      "source": [
        "lst = [10,3,4,2,50,22,18,'hello']\n",
        "print('hello' in lst)"
      ],
      "execution_count": 11,
      "outputs": [
        {
          "output_type": "stream",
          "text": [
            "True\n"
          ],
          "name": "stdout"
        }
      ]
    },
    {
      "metadata": {
        "id": "uofoiAPfpkne",
        "colab_type": "text"
      },
      "cell_type": "markdown",
      "source": [
        "This is super useful for if statments:\n",
        "\n",
        "`if number in lst:\n",
        "    use number in sum`"
      ]
    },
    {
      "metadata": {
        "id": "ecOnR3xCpknf",
        "colab_type": "text"
      },
      "cell_type": "markdown",
      "source": [
        "---------"
      ]
    },
    {
      "metadata": {
        "id": "oJnAUic5pknf",
        "colab_type": "text"
      },
      "cell_type": "markdown",
      "source": [
        "## Iterating through a list!\n",
        "We can go through each number in the list using a for loop!  And also we can go through each index in the list\n",
        "\n",
        "**Start with iterating through each value in a list**\n",
        "- number refers to the value in the list"
      ]
    },
    {
      "metadata": {
        "id": "TCeIDuU9pknh",
        "colab_type": "code",
        "colab": {
          "base_uri": "https://localhost:8080/",
          "height": 85
        },
        "outputId": "8daa5c4f-a774-4721-d068-d365abed4330"
      },
      "cell_type": "code",
      "source": [
        "lst1 = [1,2,3,4]\n",
        "for number in lst1:\n",
        "    print(number)"
      ],
      "execution_count": 12,
      "outputs": [
        {
          "output_type": "stream",
          "text": [
            "1\n",
            "2\n",
            "3\n",
            "4\n"
          ],
          "name": "stdout"
        }
      ]
    },
    {
      "metadata": {
        "id": "9n7Nau5Opknj",
        "colab_type": "text"
      },
      "cell_type": "markdown",
      "source": [
        "Or we could iterate through the numbers using the **index!!**\n",
        "\n",
        "- i refers to the index of the lst"
      ]
    },
    {
      "metadata": {
        "id": "yLJZdiHopknk",
        "colab_type": "code",
        "colab": {
          "base_uri": "https://localhost:8080/",
          "height": 85
        },
        "outputId": "875bedc6-2476-4ad4-fe83-529b2b369439"
      },
      "cell_type": "code",
      "source": [
        "lst1 = [1,2,3,4]\n",
        "for i in range(len(lst1)):\n",
        "    print(lst1[i])"
      ],
      "execution_count": 13,
      "outputs": [
        {
          "output_type": "stream",
          "text": [
            "1\n",
            "2\n",
            "3\n",
            "4\n"
          ],
          "name": "stdout"
        }
      ]
    },
    {
      "metadata": {
        "id": "uCTpFCvApknr",
        "colab_type": "text"
      },
      "cell_type": "markdown",
      "source": [
        "Or we could iterate through both of these at the same time using the `enumerate` command:"
      ]
    },
    {
      "metadata": {
        "id": "W3oATagwpknr",
        "colab_type": "code",
        "colab": {
          "base_uri": "https://localhost:8080/",
          "height": 85
        },
        "outputId": "3bacc3bb-a1b9-47c9-eb42-c9bc6f5bc428"
      },
      "cell_type": "code",
      "source": [
        "lst1 = [1,2,3,4]\n",
        "for i,number in enumerate(lst1):\n",
        "    print('index: ',i,'|| Value: ',number)"
      ],
      "execution_count": 14,
      "outputs": [
        {
          "output_type": "stream",
          "text": [
            "index:  0 || Value:  1\n",
            "index:  1 || Value:  2\n",
            "index:  2 || Value:  3\n",
            "index:  3 || Value:  4\n"
          ],
          "name": "stdout"
        }
      ]
    },
    {
      "metadata": {
        "id": "sbWOFKzQpknv",
        "colab_type": "text"
      },
      "cell_type": "markdown",
      "source": [
        "----------------\n",
        "## Tuples!\n",
        "- Notation!`(.....)`\n",
        "\n",
        "- Length is the same as lists!\n",
        "- Indexing is the same as lists!\n",
        "- Lists can be changed -- Tuples cannot (Mutability, vs Immutable)"
      ]
    },
    {
      "metadata": {
        "id": "pwLMTwCWpknw",
        "colab_type": "code",
        "colab": {
          "base_uri": "https://localhost:8080/",
          "height": 34
        },
        "outputId": "dcb53952-aeff-4890-ae3f-e65c7b1dbb48"
      },
      "cell_type": "code",
      "source": [
        "# Mutability Example\n",
        "lst1 = [1,2,3,4] \n",
        "lst1[0] = 10\n",
        "print(lst1)"
      ],
      "execution_count": 15,
      "outputs": [
        {
          "output_type": "stream",
          "text": [
            "[10, 2, 3, 4]\n"
          ],
          "name": "stdout"
        }
      ]
    },
    {
      "metadata": {
        "id": "NzOainTYpkn0",
        "colab_type": "code",
        "colab": {
          "base_uri": "https://localhost:8080/",
          "height": 34
        },
        "outputId": "caa3ea7a-ef8c-4f1c-d962-13b092bed155"
      },
      "cell_type": "code",
      "source": [
        "# Immutable Example (continued below)\n",
        "tup1 = (1,2,3)\n",
        "print(tup1[0])"
      ],
      "execution_count": 19,
      "outputs": [
        {
          "output_type": "stream",
          "text": [
            "1\n"
          ],
          "name": "stdout"
        }
      ]
    },
    {
      "metadata": {
        "id": "WgDFomATpkn3",
        "colab_type": "code",
        "colab": {
          "base_uri": "https://localhost:8080/",
          "height": 164
        },
        "outputId": "1b377f63-4528-4f69-ec09-e161065fdc5a"
      },
      "cell_type": "code",
      "source": [
        "tup1[0] = 3"
      ],
      "execution_count": 17,
      "outputs": [
        {
          "output_type": "error",
          "ename": "TypeError",
          "evalue": "ignored",
          "traceback": [
            "\u001b[0;31m---------------------------------------------------------------------------\u001b[0m",
            "\u001b[0;31mTypeError\u001b[0m                                 Traceback (most recent call last)",
            "\u001b[0;32m<ipython-input-17-ac49bb8ca6c7>\u001b[0m in \u001b[0;36m<module>\u001b[0;34m()\u001b[0m\n\u001b[0;32m----> 1\u001b[0;31m \u001b[0mtup1\u001b[0m\u001b[0;34m[\u001b[0m\u001b[0;36m0\u001b[0m\u001b[0;34m]\u001b[0m \u001b[0;34m=\u001b[0m \u001b[0;36m3\u001b[0m\u001b[0;34m\u001b[0m\u001b[0m\n\u001b[0m",
            "\u001b[0;31mTypeError\u001b[0m: 'tuple' object does not support item assignment"
          ]
        }
      ]
    },
    {
      "metadata": {
        "id": "SQxkRzNIpkn5",
        "colab_type": "text"
      },
      "cell_type": "markdown",
      "source": [
        "#### Error -- Can't change the values in the tuple!"
      ]
    },
    {
      "metadata": {
        "id": "7gypkLxcpkn6",
        "colab_type": "text"
      },
      "cell_type": "markdown",
      "source": [
        "- Can have a list of tuples!"
      ]
    },
    {
      "metadata": {
        "id": "yX7osCd2pkn7",
        "colab_type": "code",
        "colab": {}
      },
      "cell_type": "code",
      "source": [
        "lst = [(1,2),(2,3),(3,4)]"
      ],
      "execution_count": 0,
      "outputs": []
    },
    {
      "metadata": {
        "id": "v0x5530qpkn9",
        "colab_type": "text"
      },
      "cell_type": "markdown",
      "source": [
        "- Tuples can be any length\n",
        "- Useful for holding `x,y` pairs or `x,y,z,...` pairs\n",
        "\n",
        "-----\n",
        "\n",
        "Iteration works the same with tuples!  \n",
        " \n",
        "- Look at iterating through one tuple"
      ]
    },
    {
      "metadata": {
        "id": "yYYPbUywpkn-",
        "colab_type": "code",
        "colab": {
          "base_uri": "https://localhost:8080/",
          "height": 68
        },
        "outputId": "03a5d145-b934-4c71-d0d0-c086d66bb2a3"
      },
      "cell_type": "code",
      "source": [
        "tup1 = (1,2,3)\n",
        "\n",
        "for value in tup1:\n",
        "    print(value)"
      ],
      "execution_count": 19,
      "outputs": [
        {
          "output_type": "stream",
          "text": [
            "1\n",
            "2\n",
            "3\n"
          ],
          "name": "stdout"
        }
      ]
    },
    {
      "metadata": {
        "id": "PZndE1unpkoB",
        "colab_type": "text"
      },
      "cell_type": "markdown",
      "source": [
        "- Look at iterating through list of tuples:"
      ]
    },
    {
      "metadata": {
        "id": "DxGVXLTLpkoB",
        "colab_type": "code",
        "colab": {
          "base_uri": "https://localhost:8080/",
          "height": 194
        },
        "outputId": "239473a3-6aa2-4db2-9bdb-a758b91847b9"
      },
      "cell_type": "code",
      "source": [
        "lst = [(1,2),(2,3)]\n",
        "for tup in lst:\n",
        "    print('\\nPrinting Tuple Values\\n','--'*10,)\n",
        "    for i,value in enumerate(tup):\n",
        "        print('Tuple index ',i,' = ', value)\n"
      ],
      "execution_count": 18,
      "outputs": [
        {
          "output_type": "stream",
          "text": [
            "\n",
            "Printing Tuple Values\n",
            " --------------------\n",
            "Tuple index  0  =  1\n",
            "Tuple index  1  =  2\n",
            "\n",
            "Printing Tuple Values\n",
            " --------------------\n",
            "Tuple index  0  =  2\n",
            "Tuple index  1  =  3\n"
          ],
          "name": "stdout"
        }
      ]
    },
    {
      "metadata": {
        "id": "-QMVro66hraJ",
        "colab_type": "code",
        "colab": {}
      },
      "cell_type": "code",
      "source": [
        ""
      ],
      "execution_count": 0,
      "outputs": []
    }
  ]
}