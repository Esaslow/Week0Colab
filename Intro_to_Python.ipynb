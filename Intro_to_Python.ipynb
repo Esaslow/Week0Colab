{
  "nbformat": 4,
  "nbformat_minor": 0,
  "metadata": {
    "colab": {
      "name": "Intro to Python",
      "version": "0.3.2",
      "provenance": [],
      "collapsed_sections": [],
      "include_colab_link": true
    },
    "kernelspec": {
      "name": "python3",
      "display_name": "Python 3"
    }
  },
  "cells": [
    {
      "cell_type": "markdown",
      "metadata": {
        "id": "view-in-github",
        "colab_type": "text"
      },
      "source": [
        "[View in Colaboratory](https://colab.research.google.com/github/Esaslow/Week0Colab/blob/master/Intro_to_Python.ipynb)"
      ]
    },
    {
      "metadata": {
        "id": "DS1ZT7aXUYme",
        "colab_type": "text"
      },
      "cell_type": "markdown",
      "source": [
        "# Intro to Python\n",
        "\n",
        "Let's jump right in.\n",
        "\n",
        "A Python program is a series of expressions and statements. Don't worry about the specifics, but very roughly:\n",
        "\n",
        "* A **statement** is like a **verb**. It **does** something.\n",
        "* An **expression** is like a **noun**. It **is** something.\n",
        "\n",
        "The simplest Python program is a single expression, and the simplest expression is a number.\n",
        "\n",
        "Open up a code cell, type a number, and execute the cell."
      ]
    },
    {
      "metadata": {
        "id": "If-AwHFhVP_c",
        "colab_type": "code",
        "colab": {
          "base_uri": "https://localhost:8080/",
          "height": 34
        },
        "outputId": "fc2bc8a4-6f5e-4a33-e343-044db774ec21"
      },
      "cell_type": "code",
      "source": [
        "# brandon\n",
        "42"
      ],
      "execution_count": 1,
      "outputs": [
        {
          "output_type": "execute_result",
          "data": {
            "text/plain": [
              "42"
            ]
          },
          "metadata": {
            "tags": []
          },
          "execution_count": 1
        }
      ]
    },
    {
      "metadata": {
        "id": "OkB20W99Z0IW",
        "colab_type": "text"
      },
      "cell_type": "markdown",
      "source": [
        "## Literal Expressions"
      ]
    },
    {
      "metadata": {
        "id": "EnL-XZ4XWX6G",
        "colab_type": "text"
      },
      "cell_type": "markdown",
      "source": [
        "An expression which expresses a single value is called a **literal**. A literal has a **type**. The above literal is an **integer**.\n",
        "\n",
        "Python has several numeric types.\n",
        "\n",
        "Here's a floating point number:\n"
      ]
    },
    {
      "metadata": {
        "id": "GFVfnSMNWuxG",
        "colab_type": "code",
        "colab": {
          "base_uri": "https://localhost:8080/",
          "height": 34
        },
        "outputId": "a32f86a4-213f-4829-f0f6-b83ed521989a"
      },
      "cell_type": "code",
      "source": [
        "#brandon\n",
        "4.52324"
      ],
      "execution_count": 2,
      "outputs": [
        {
          "output_type": "execute_result",
          "data": {
            "text/plain": [
              "4.52324"
            ]
          },
          "metadata": {
            "tags": []
          },
          "execution_count": 2
        }
      ]
    },
    {
      "metadata": {
        "id": "XcoolglUX2iT",
        "colab_type": "text"
      },
      "cell_type": "markdown",
      "source": [
        "Complex number:"
      ]
    },
    {
      "metadata": {
        "id": "0FtVxi8jX5yZ",
        "colab_type": "code",
        "colab": {
          "base_uri": "https://localhost:8080/",
          "height": 34
        },
        "outputId": "e521436e-051a-4cf7-d885-0a7fe5da2999"
      },
      "cell_type": "code",
      "source": [
        "#brandon\n",
        "complex(1, 5)"
      ],
      "execution_count": 3,
      "outputs": [
        {
          "output_type": "execute_result",
          "data": {
            "text/plain": [
              "(1+5j)"
            ]
          },
          "metadata": {
            "tags": []
          },
          "execution_count": 3
        }
      ]
    },
    {
      "metadata": {
        "id": "1F5xzLB1X6_d",
        "colab_type": "text"
      },
      "cell_type": "markdown",
      "source": [
        "As I mentioned before, literals have types. In fact - the result of _all_ expressions have a type. You can check the type of an expression with the `type` function.\n",
        "\n",
        "```python\n",
        "type(EXPRESSION)\n",
        "```\n",
        "\n",
        "Try it out."
      ]
    },
    {
      "metadata": {
        "id": "hGCEtHHnYa6P",
        "colab_type": "code",
        "colab": {
          "base_uri": "https://localhost:8080/",
          "height": 34
        },
        "outputId": "5f330a9a-b347-4a09-e76b-dc500926f39a"
      },
      "cell_type": "code",
      "source": [
        "#brandon\n",
        "type(3.1415)"
      ],
      "execution_count": 4,
      "outputs": [
        {
          "output_type": "execute_result",
          "data": {
            "text/plain": [
              "float"
            ]
          },
          "metadata": {
            "tags": []
          },
          "execution_count": 4
        }
      ]
    },
    {
      "metadata": {
        "id": "a7jD2nO7ZkQS",
        "colab_type": "text"
      },
      "cell_type": "markdown",
      "source": [
        "##Arithmetic Expressions\n",
        "\n",
        "Python provides several simple arithmetic expressions for use with numeric literals.\n",
        "\n",
        "* `+` addition\n",
        "* `-` subtraction\n",
        "* `*` multiplication\n",
        "* `/` division\n",
        "* `**` exponentiation"
      ]
    },
    {
      "metadata": {
        "id": "pZzCvD_hZ6mg",
        "colab_type": "code",
        "colab": {
          "base_uri": "https://localhost:8080/",
          "height": 34
        },
        "outputId": "d4e043a9-5a52-4786-88d3-6b3bf3a20a0c"
      },
      "cell_type": "code",
      "source": [
        "4+14"
      ],
      "execution_count": 5,
      "outputs": [
        {
          "output_type": "execute_result",
          "data": {
            "text/plain": [
              "18"
            ]
          },
          "metadata": {
            "tags": []
          },
          "execution_count": 5
        }
      ]
    },
    {
      "metadata": {
        "id": "i0aOl4jbaj0W",
        "colab_type": "code",
        "colab": {
          "base_uri": "https://localhost:8080/",
          "height": 34
        },
        "outputId": "98a2f52a-0811-4e62-d19b-d2773c3bd4e0"
      },
      "cell_type": "code",
      "source": [
        "9**2"
      ],
      "execution_count": 6,
      "outputs": [
        {
          "output_type": "execute_result",
          "data": {
            "text/plain": [
              "81"
            ]
          },
          "metadata": {
            "tags": []
          },
          "execution_count": 6
        }
      ]
    },
    {
      "metadata": {
        "id": "3Vfe1bTQapQQ",
        "colab_type": "text"
      },
      "cell_type": "markdown",
      "source": [
        "Try it out."
      ]
    },
    {
      "metadata": {
        "id": "JGsQ9vEya2JK",
        "colab_type": "code",
        "colab": {
          "base_uri": "https://localhost:8080/",
          "height": 34
        },
        "outputId": "9573912e-5fc1-4d38-b231-b935ddc12c9c"
      },
      "cell_type": "code",
      "source": [
        "#brandon\n",
        "14+23"
      ],
      "execution_count": 7,
      "outputs": [
        {
          "output_type": "execute_result",
          "data": {
            "text/plain": [
              "37"
            ]
          },
          "metadata": {
            "tags": []
          },
          "execution_count": 7
        }
      ]
    },
    {
      "metadata": {
        "id": "UausEtzFa5Md",
        "colab_type": "text"
      },
      "cell_type": "markdown",
      "source": [
        "## Variable Expressions\n",
        "\n",
        "Python provides a way to name values called **variables**. You're probably used to variables from algebra, where they're used to store numbers.\n",
        "\n",
        "$$ x_i = 15.4 $$\n",
        "\n",
        "In Python, variables are declared with an **assignment statement**, which simultaneously creates the variable and assigns it a value. This is accomplished with the **assignment operator** `=`, like this:\n",
        "\n",
        "```python\n",
        "VARIABLE = VALUE_EXPRESSION\n",
        "```\n",
        "\n",
        "For example, here we create a value `a` and assign it the float-typed value `1969.2121`."
      ]
    },
    {
      "metadata": {
        "id": "BXzlhjcYbGg3",
        "colab_type": "code",
        "colab": {}
      },
      "cell_type": "code",
      "source": [
        "a = 1969.2121"
      ],
      "execution_count": 0,
      "outputs": []
    },
    {
      "metadata": {
        "id": "4BdNiJdldop2",
        "colab_type": "text"
      },
      "cell_type": "markdown",
      "source": [
        "**Note** the assignment operator `=` is pronounced \"gets\", _not_ \"equals\". The statement `a = 12` is pronounced \"ay gets twelve\"."
      ]
    },
    {
      "metadata": {
        "id": "hPBNQA6Ade8c",
        "colab_type": "text"
      },
      "cell_type": "markdown",
      "source": [
        "The use of descriptive variable names is an important part of writing readable code. The convention in python is to use one to threeish lower-case words joined using an underscore. For example:\n",
        "\n",
        "`birthday`\n",
        "\n",
        "or\n",
        "\n",
        "`party_date`\n",
        "\n",
        "In some cases convention allows for shorter variable names. `i` is a conventional name for a loop counter, for instance."
      ]
    },
    {
      "metadata": {
        "id": "Wf9vMdkeedBs",
        "colab_type": "text"
      },
      "cell_type": "markdown",
      "source": [
        "### Right-to-left execution\n",
        "\n",
        "If you try the following code, what do you think will happen?\n",
        "\n",
        "```python\n",
        "a = a*2\n",
        "```"
      ]
    },
    {
      "metadata": {
        "id": "eMqDNtnkfBsn",
        "colab_type": "code",
        "colab": {}
      },
      "cell_type": "code",
      "source": [
        "# try it out here"
      ],
      "execution_count": 0,
      "outputs": []
    },
    {
      "metadata": {
        "id": "3PefTURWhsd7",
        "colab_type": "text"
      },
      "cell_type": "markdown",
      "source": [
        "Against intuition, this actually works. This is because an assignment statement is evaluated **right to left**. First the expression on the right of the `=` is evaluated, and then the result is assigned to the variable on the left.\n",
        "\n",
        "Changing variables in this way occurs so commonly that there is built-in shorthand for it. The result of the first line could have been achieved with `x += 5`. This **syntactic sugar** is available for all the simple operations `+`, `-`, `*`, `/`, `**`, and `%` that we covered earlier."
      ]
    },
    {
      "metadata": {
        "id": "ShOagYbOjVl7",
        "colab_type": "text"
      },
      "cell_type": "markdown",
      "source": [
        "\n",
        "## Logic\n",
        "\n",
        "We can't write a program without the ability to make a _choice_, and the `if` statement provides this ability. The `if` statement provides a way to specify that a statement should only be executed _if a given condition expression evaluates to True_.\n",
        "\n",
        "The general syntax of an `if` statement in Python is:\n",
        "\n",
        "```python\n",
        "if condition:\n",
        "    if_block_statement\n",
        "```\n",
        "\n",
        "Notice how the `if` statement ends in a colon `:`. This is the way that Python declares the start of an indentation block."
      ]
    },
    {
      "metadata": {
        "id": "RaEiZ0-igYlR",
        "colab_type": "text"
      },
      "cell_type": "markdown",
      "source": [
        "\n",
        "\n",
        "\n",
        "### Conditionals\n",
        "\n",
        "Let's tackle this one part at a time. What does it mean to be a condition? Really, all an `if` is checking is whether the conditional evaluates to `True` or `False`. If the condition is true, then the body of the `if` statement is executed. If the condition is false, the `if` block is skipped. Intuitively, true and false are concepts that make perfect sense to us. But we should take the time to clearly define them in a programming context here.\n",
        "\n",
        "`True` and `False` are what we call booleans in logic (`bool` for short), and what Python calls them. They are a special variable type with many potential uses; mainly they are used as a way to put a label on the truth of a statement. There are two specifically reserved words for bools in Python, `True` and `False`. Note that these begin with capital letters.\n",
        "\n",
        "```python\n",
        "In [1]: type(True)\n",
        "Out[1]: bool\n",
        "\n",
        "In [2]: type(False)\n",
        "Out[2]: bool\n",
        "```\n",
        "\n",
        "In addition, a wide variety of statements can evaluate to booleans. The ones that we will focus on today are the equalities, *equal to* and *not equal to*, and the inequalities, *less than*, *greater than*, *less than or equal to* and *greater than or equal to*. These comparisons are available in Python via `==`, `!=`, `<`, `>`, `<=` and `>=`, respectively.\n",
        "\n",
        "```python\n",
        "In [1]: 1 == 2\n",
        "Out[1]: False\n",
        "\n",
        "In [2]: 1 != 2\n",
        "Out[2]: True\n",
        "\n",
        "In [3]: 1 < 2\n",
        "Out[3]: True\n",
        "\n",
        "In [4]: 1 > 2\n",
        "Out[4]: False\n",
        "\n",
        "In [5]: 1 <= 2\n",
        "Out[5]: True\n",
        "\n",
        "In [6]: 1 >= 2\n",
        "Out[6]: False\n",
        "```\n",
        "\n",
        "### Using the If\n",
        "\n",
        "Now that we understand conditionals, let's talk about how we can use them with variables to make our programs dynamic. Consider the following code block.\n",
        "\n",
        "```python\n",
        "if x > 5:\n",
        "    x += 10\n",
        "print(x)\n",
        "```\n",
        "\n",
        "**Note**: The print function simply pipes the value passed to it to the console.\n",
        "\n",
        "In the above code we don't need to know what the value of `x` is, but we can say that if it's greater than 5, it will come out of the code block 10 greater than before the `if` statement.\n",
        "\n",
        "From what we know so far, this functionality isn't super useful. So let's quickly go over a way that we can make our Python more flexible. Until now, we've had to hard code any variable or value that we want to use in our program. Python has a built in way to accept input from the user of a program. Let's examine this now. Consider that the following code was stored in a file named `print_number.py`.\n",
        "\n",
        "```python\n",
        "x = input('Please enter a number: ')\n",
        "print(x)\n",
        "```\n",
        "\n",
        "If we then ran the script from IPython, we would would see:\n",
        "\n",
        "```python\n",
        "In [1]: run print_number.py\n",
        "Please enter a number:\n",
        "```\n",
        "\n",
        "**Note**: The `input()` function accepts character input from the keyboard, printing the message it is passed as a prompt.\n",
        "\n",
        "We can then type a number followed by enter, and the script will print that number.\n",
        "\n",
        "```python\n",
        "In [1]: run print_number.py\n",
        "Please enter a number: 3\n",
        "3\n",
        "```\n",
        "\n",
        "**Note**: `input()` halts the execution of your script, so nothing will happen until you type something and press enter.\n",
        "\n",
        "Now that we have a way to get arbitrary input from the user of our program, we can begin to see the full power of the `if`. Let's combine the last two code blocks from above, and say we stored it in a script named `print_number_with_if.py`.\n",
        "\n",
        "```python\n",
        "x = int(input('Please enter a number: '))\n",
        "if x > 5:\n",
        "    x += 10\n",
        "print(x)\n",
        "```\n",
        "\n",
        "**Note**: `input()` actually interprets the input as strings, so we have to manually tell Python to treat the number we pass as an integer with `int()`. We'll talk about strings more next week.\n",
        "\n",
        "If we then ran the script from IPython as above, let's look at two ways we could interact with it.\n",
        "\n",
        "```python\n",
        "In [1]: run print_number_with_if.py\n",
        "Please enter a number: 3\n",
        "3\n",
        "\n",
        "In [2]: run print_number_with_if.py\n",
        "Please enter a number: 8\n",
        "18\n",
        "```\n",
        "\n",
        "Notice that the first time we run `print_number_with_if` and give it 3, it acts just like `print_number`. However, the second time, when we give it 8, it adds 10 and prints 18. Why did it do this? Because 8 is greater than 5, so our program added 10 to it before it was printed.\n",
        "\n",
        "This may seem like a trivial example, and therefore, not very exciting. Let me assure you, though, that what you have just learned is amazingly powerful! So congratulations!\n",
        "\n",
        "### Building on the If\n",
        "\n",
        "Ok, so, the `if` is cool. But it seems like, due to it's structure, there are only so many things you can do with it. Let's summarize this with what's known as a *flow diagram*.\n",
        "\n",
        "![If Flow](http://www.tutorialspoint.com/cprogramming/images/if_statement.jpg)\n",
        "\n",
        "You can see that there are two branches created by the `if` statement, one when the condition is true, and the other when it is false. In the former case, the conditional code is executed, and in the latter, the conditional code is ignored. But what if we wanted to check more than one thing (i.e. have more than two branches in our flow diagram)?\n",
        "\n",
        "Python gives us two ways to do this. One by offering other conditionals, `elif` and `else`, and the other by allowing us to combine conditions with logicals `and`, `or` and `not`.\n",
        "\n",
        "#### Elif and Else\n",
        "\n",
        "In addition to the `if`, Python provides us with two other statements to build out those logical trees, the `elif` and the `else`. The `elif` is just like the `if` - it accepts a condition to check the truth of and has an indented code block that is executed when that condition evaluates to `True`. The `else` is similar, but it doesn't accept a condition. Instead, it mainly acts as a catch all for any other situation that you don't need to cover with your `if`s and `elif`s. Note that there can only be a single `if` and up to a single `else`, but any number of `elif`s in an `if`-`elif`-`else` block. Let's take a closer look at this in the following code block that we'll store in `if_elif_else.py`.\n",
        "\n",
        "```python\n",
        "x = int(input('Please enter a number: '))\n",
        "if x < 0:\n",
        "    print('You entered a negative number.')\n",
        "elif x > 0:\n",
        "    print('You entered a positive number.')\n",
        "else:\n",
        "    print('You entered the number 0.')\n",
        "```\n",
        "\n",
        "Running the program and passing a number when prompted will cause the conditions to be checked and result in the following output.\n",
        "\n",
        "```python\n",
        "In [1]: run if_elif_else.py\n",
        "Please enter a number: 10\n",
        "You entered a positive number.\n",
        "\n",
        "In [2]: run if_elif_else.py\n",
        "Please enter a number: -10\n",
        "You entered a negative number.\n",
        "\n",
        "In [3]: run if_elif_else.py\n",
        "Please enter a number: 0\n",
        "You entered the number 0.\n",
        "```\n",
        "\n",
        "Let's specifically talk about how the `if`-`elif`-`else` statements work. The programmers of Python designed these statements so that they would execute highly efficiently. They achieved this by making it so that when Python is going through your `if`-`elif`-`else` statements and encounters a condition that evaluates to `True`, it will execute the corresponding conditional code block and then skip to the line directly following the last conditional block. Let's examine this in the following code saved again in `if_elif_else.py`.\n",
        "\n",
        "```python\n",
        "x = int(input('Please enter a number: '))\n",
        "if x > 5:\n",
        "    print('You entered a number bigger than 5.')\n",
        "elif x > 0:\n",
        "    print('You entered a positive number.')\n",
        "elif x < 0:\n",
        "    print('You entered a negative number.')\n",
        "else:\n",
        "    print('You entered the number 0.')\n",
        "```\n",
        "\n",
        "Running this program produces slightly unexpected results. But, they will soon make perfect sense, and knowing what is going on will allow you full control over the flow of your programs.\n",
        "\n",
        "```python\n",
        "In [1]: run if_elif_else.py\n",
        "Please enter a number: 5\n",
        "You entered a positive number.\n",
        "\n",
        "In [2]: run if_elif_else.py\n",
        "Please enter a number: 6\n",
        "You entered a number bigger than 5.\n",
        "```\n",
        "\n",
        "In the first example we got something unsurprising. The only condition that evaluates to true when `x` is 5 is the second one. However, the second example yields only 'You entered a number bigger than 5.', even though 6 is greater than 0. This shows that only one of the conditional blocks in an `if`-`elif`-`else` statement will ever be evaluated, and once this happens the rest are skipped.\n",
        "\n",
        "**Note**: The `else` part of the statement is actually optional. If it is not included, then we'd notice that at most one of the conditional blocks in an `if`-`elif` statement will be evaluated.\n",
        "\n",
        "#### And, Or and Not\n",
        "\n",
        "There are plenty of times when we want to execute some specific code when more than one condition is true. Check out the following code snippet.\n",
        "\n",
        "```python\n",
        "if x > 5:\n",
        "    if x < 10:\n",
        "        print(x)\n",
        "```\n",
        "\n",
        "We can see that what this **nested** `if` statement is checking for are numbers that lie in the interval (5, 10), and if it finds one it prints it. We can intuitively guess that there is a better way to check for this condition. And there is!!!\n",
        "\n",
        "Python gives us full access to what are known as boolean operations. The ones that we will use most often are `and`, `or` and `not`. Both `and` and `or` take two conditions as inputs, while `not` takes only a single condition. They all return a single boolean, with `and` requiring both conditions to be `True` to return `True`, and the `or` requiring only one of the conditions to be `True` to return `True`. The `not` switches the truth of the input condition. These operations are derived from formal logic, and you can find a full discussion of their intricacies found [here](https://en.wikipedia.org/wiki/Truth_table).\n",
        "\n",
        "What this means is that we now have a natural way to combine conditions. The previously nested `if` statement can now be written as a simple `if x > 5 and x < 10`. We can also chain other interesting conditionals together.\n",
        "\n",
        "```python\n",
        "if x > 10 or x < 5:\n",
        "    print(x)\n",
        "\n",
        "if not (x <= 10 and x >= 5):\n",
        "    print(x)\n",
        "```\n",
        "\n",
        "Notice how the first `if` in the above code snippet uses an `or`, printing `x` if it is greater than 10 or less than 5. Inherently this statement is also saying that it will print `x` if `x` is not between 5 and 10, which is expressed in the second `if` statement. This illustrates an important point - there is always more than one way to accomplish the same thing in programming.\n",
        "\n",
        "## Looping\n",
        "\n",
        "We are now prepared to learn about another extremely powerful programming construct. Everything that we learned in the last section on logic is part of an idea called **control flow**. Flow refers to the order in which statements in your program are executed. Controlling this flow can be done in many ways; so far we have learned about `if`-`elif`-`else` statements, but there are a number of others.\n",
        "\n",
        "One thing that we find in programming is that we want to do something over and over (and over), possibly under the same circumstances each time, but frequently under slightly different circumstances each time. With the tools that we currently possess, we have to write out a line of Python for each time that we want to do that something. Let's go through a more concrete example.\n",
        "\n",
        "Consider that you are asked to write a program to calculate the sum of the numbers between 1 and 8 (without the use of any built-in Python functions). We could write an extremely simple program to do this for us.\n",
        "\n",
        "```python\n",
        "sum_1_8 = 1 + 2 + 3 + 4 + 5 + 6 + 7 + 8\n",
        "print(sum_1_8)\n",
        "```\n",
        "\n",
        "While this definitely works, there are a couple of things I want to draw your attention to (which will become themes about how to analyze how well code is written). First, what happens if we want to add the numbers 1 through 9 together? Not that hard, just add 9 to `sum_1_8` you say. Ok, fine. What if you want to add 2 through 9 together? Now we could take `sum_1_8`, add 9 and subtract off 1. And that works, but it involves some thinking to make this new idea work with the existing code that we have written.\n",
        "\n",
        "Instead of having all of these **hard coded** values in our definition of `sum_1_8`, we could instead **abstract** away part of our problem. What is this abstraction? In programming, we talk about abstraction when we want to refer to an idea whose implementation is more general and/or hidden from us. In the above example, we see exactly what we're doing to sum the numbers 1 through 8. This isn't abstracted at all. So how are we to solve this problem more abstractly?\n",
        "\n",
        "This is a question that you will frequently be faced with; how do you do something... in code? A good strategy to solve these problems is to approach the problem from a high level (i.e. in plain English, no code).\n",
        "\n",
        "So let's do that with our coding problem above. We were asked to add together the numbers 1 through 8. This can be thought of as given a starting number, 1, and then adding on the next number, 2, to get 3. Then we can repeat this process, taking the next number, 3, and adding it on, giving us 6. We could then continue this process until we reach the final number, 8, and then stop. (This is inherently what we were doing in that single line of Python when we said `1 + 2 + 3 + 4 + 5 + 6 + 7 + 8`, but that implementation is what we call **brittle** - it only works for that specific case and breaks whenever we want to do something even slightly different.)\n",
        "\n",
        "### While Loops\n",
        "\n",
        "Notice how in our high level description of the problem solution, we kept saying \"and then\". This repetitious language brings us to our next control flow tool, loops. There are two types of loops in Python, but today we're going to focus on `while` loops. `while` loops are an amazing tool which simply allow us to have a predefined chunk of code which we tell Python we want to run over and over under certain conditions.\n",
        "\n",
        "So what are these conditions? They are in fact the conditions we learned about in the logic section (i.e. any expression that is evaluated to a boolean). So how does this work with `while`? Let's take a look at the structure of a `while` statement.\n",
        "\n",
        "```python\n",
        "while condition:\n",
        "    while_block_statement\n",
        "```\n",
        "\n",
        "As with  `if`, a `while` statement has a condition; unlike the `if`, the while block will execute over and over again as long as the condition is `True`. This is where we get the name `while` loop from - as long as the condition evaluates to `True`, we will execute the code inside the `while` block, looping over it. The `while` condition is checked each time before the `while` statement block is executed.\n",
        "\n",
        "\n",
        "Let's look at how we can harness this new structure to solve our previous problem. Take a look at the following code.\n",
        "\n",
        "```python\n",
        "total, x = 0, 1\n",
        "while x <= 8:\n",
        "    total += x\n",
        "    x += 1\n",
        "print(total)\n",
        "```\n",
        "\n",
        "Let's break down this code to see what is going on. On the first line, we declare a couple of variables (here you see the Python syntax used to do multiple assignments in a single line), `total` and `x`. `total` is the variable that we are going to aggregate our sum into, and `x` is the first number that we start our adding at. The next line declares the start of our newly learned `while` block. It's condition is x <= 8, and naturally reads as: \"while x is less than or equal to 8\", do stuff in the block. The block then says we are to add the current value of `x` to total, then add one to `x`.\n",
        "\n",
        "We know that this `while` statement will loop through the `while` block many times, but the values of `total` and `x` will change each time through the loop. So, let's take a look at what the values of both of these variables are throughout the execution of the loop.\n",
        "\n",
        "| After loop #  |   total   |   x   |   x <= 8   |\n",
        "| ------------- |:---------:|:-----:|:----------:|\n",
        "| 1             |  1        |   2   |    True    |\n",
        "| 2             |  3        |   3   |    True    |\n",
        "| 3             |  6        |   4   |    True    |\n",
        "| 4             |  10       |   5   |    True    |\n",
        "| 5             |  15       |   6   |    True    |\n",
        "| 6             |  21       |   7   |    True    |\n",
        "| 7             |  28       |   8   |    True    |\n",
        "| 8             |  36       |   9   |    False   |\n",
        "\n",
        "We see that as we continue through the loop, `total` is growing by the value of `x` from the previous execution of the loop, and this continues until the condition `x <= 8` evaluates to `False`. This happens when `x` is 9, at which point we exit the loop, and `total` has accrued the sum of the numbers 1 through 8. Magic!!\n",
        "\n",
        "To solidify this idea in the framework of control flow, take a look at the structure of the `while` loop as a flow diagram.\n",
        "\n",
        "![While Flow](http://www.programiz.com/sites/tutorial2program/files/C_while_loop.jpg)\n",
        "\n",
        "We see that the trick to the loop, in terms of control flow, is that we return to check the condition each time after the `while` block is executed to determine if we should execute it again.\n",
        "\n",
        "### Infinite Loops\n",
        "\n",
        "While the power of this looping construct is undeniable, there is one extraordinarily important thing that should be on your mind when you're writing `while` loops.\n",
        "\n",
        "Notice that our condition in the `while` loop example made sense because we were changing the value of `x` each time through the loop (with the line `x += 1`). What would happen, though, if we didn't do this incrementing (other than not calculating the correct value for `total`)?\n",
        "\n",
        "Let's take a look at what the loop table would look like in this situation.\n",
        "\n",
        "| After loop #  |   total   |   x   |   x <= 8   |\n",
        "| ------------- |:---------:|:-----:|:----------:|\n",
        "| 1             |  1        |   1   |    True    |\n",
        "| 2             |  2        |   1   |    True    |\n",
        "| 3             |  3        |   1   |    True    |\n",
        "| 4             |  4        |   1   |    True    |\n",
        "| Etc.          |  Etc.     |  Etc. | **Always** True |\n",
        "\n",
        "Aside from the obvious problem that we aren't finding the sum of the values 1 through 8, we run into another, very egregious issue. Will the condition `x <= 8` ever evaluate to `False`? No. So will the loop ever finish executing?? It won't!!\n",
        "\n",
        "We call this idea getting stuck in an **infinite loop**. They are almost *always* bad, and they usually manifest themselves as your program running for way longer than you would expect it to run, at which point you realize that something weird is happening. The common cause of these infinite loops is almost always having a condition that always evaluates to `True`.\n",
        "\n",
        "### More Control Flow\n",
        "\n",
        "#### Continue\n",
        "\n",
        "So what if we want even more control over how the body of our loop is executed? Let's motivate this idea with a problem. Say we want to add all the numbers from 1 to 8... but not 5. Again, we could solve this with our current solution, and then subtract off 5. But, again, that takes a lot of manipulation. Instead, we can use the main structure of our current loop and add in a new condition with an `if` and use a new tool to interrupt our program's flow.\n",
        "\n",
        "Enter `continue`. What `continue` does is simply tell Python that it should skip the rest of the body of the `while` block, and jump (`continue`) to the next iteration of the loop. Let's take a look at `continue` in action.\n",
        "\n",
        "```python\n",
        "total, x = 0, 1\n",
        "while x <= 8:\n",
        "    if x == 5:\n",
        "        x += 1\n",
        "        continue\n",
        "    total += x\n",
        "    x += 1\n",
        "    print(total, x)\n",
        "print(total)\n",
        "```\n",
        "\n",
        "In this updated program we can see that we will, at each iteration of the loop, check to see if the current value that we're about to add on to `total` is 5. If it isn't, we go on with our aggregation of `total`. If `x` is 5, we add one to `x` (do you see why we need to do this?), and skip adding `x` to total by executing a `continue`, jumping immediately to the next iteration of the loop. Let's see how this would look in the loop table.\n",
        "\n",
        "| After loop #  |   total   |   x   |   x <= 8   |    x == 5   |\n",
        "| ------------- |:---------:|:-----:|:----------:|:-----------:|\n",
        "| 1             |  1        |   2   |    True    |    False    |\n",
        "| 2             |  3        |   3   |    True    |    False    |\n",
        "| 3             |  6        |   4   |    True    |    False    |\n",
        "| 4             |  10       |   5   |    True    |    True     |\n",
        "| 5             |  10       |   6   |    True    |    False    |\n",
        "| 6             |  16       |   7   |    True    |    False    |\n",
        "| 7             |  23       |   8   |    True    |    False    |\n",
        "| 8             |  31       |   9   |    False   |    False    |\n",
        "\n",
        "During the fourth iteration of the loop, when `x` is 5, we see that `total` does not get 5 added to it.  Therefore, the final answer is, as we'd expect, 31.\n",
        "\n",
        "#### Break\n",
        "\n",
        "In addition to the continue, we have another, more aggressive, method to control the flow of our programs - `break`. Where `continue` allowed us to skip the rest of the loop's code block and jump directly to the next iteration of the loop, `break` allows us to manually leave the loop entirely.\n",
        "\n",
        "Time for an illustrative example. Consider trying to write a program that adds the numbers 1 to 8, but only up to 25. If the sum exceeds 25, the total is set to 25 and the message, \"The sum exceeded the max value of 25.\" is printed. We could certainly complete this task with the tools that we already possess, but `break` is better suited to meet the needs of this situation. Let's take a look at what this implementation would look like.\n",
        "\n",
        "```python\n",
        "total, x = 0, 1\n",
        "while x <= 8:\n",
        "    if total > 25:\n",
        "        total = 25\n",
        "        print('The sum exceeded the max value of 25.')\n",
        "        break\n",
        "    total += x\n",
        "    x += 1\n",
        "print(total)\n",
        "```\n",
        "\n",
        "At this point I'm confident that you are tired of looking at tables of values, but let's do this one last time for consistency under the above program specifications.\n",
        "\n",
        "| After loop #  |   total   |   x   |   x <= 8   | total > 25  |\n",
        "| ------------- |:---------:|:-----:|:----------:|:-----------:|\n",
        "| 1             |  1        |   2   |    True    |    False    |\n",
        "| 2             |  3        |   3   |    True    |    False    |\n",
        "| 3             |  6        |   4   |    True    |    False    |\n",
        "| 4             |  10       |   5   |    True    |    False    |\n",
        "| 5             |  15       |   6   |    True    |    False    |\n",
        "| 6             |  21       |   7   |    True    |    False    |\n",
        "| 7             |  28       |   8   |    True    |    True     |\n",
        "\n",
        "At this point `total` is set to 25 and the message \"The sum exceeded the max value of 25.\" is printed. The loop is exited and then 25 (the value of `total` now) is printed to the screen.\n",
        "\n",
        "#### Pass\n",
        "\n",
        "There's one more statement that allows us control over our programs - `pass`. All `pass` does is tell Python to do nothing. Because of this, it is rarely used for control flow, since the same result could be achieved by doing nothing. Instead, it is frequently offered as a place holder, since Python will complain about empty code blocks.\n",
        "\n",
        "So while you're building up the skeleton of a program, `pass` can be useful as a method to get the framework written up without focusing on implementation. To illustrate...\n",
        "\n",
        "```python\n",
        "if x < 0:\n",
        "    pass\n",
        "elif x > 0:\n",
        "    pass\n",
        "else:\n",
        "    print('x is the value of 0.')\n",
        "```\n",
        "\n",
        "In the above example, we have set it up so that if `x` is 0, then our program tells us so. Otherwise, we know that we're going to do something specific when `x` is positive and something different when `x` is negative.  We have used pass to suggest that we either haven't figured those things out yet, or simply haven't implemented them."
      ]
    },
    {
      "metadata": {
        "id": "SLPqXp1bfPQn",
        "colab_type": "code",
        "colab": {}
      },
      "cell_type": "code",
      "source": [
        ""
      ],
      "execution_count": 0,
      "outputs": []
    }
  ]
}